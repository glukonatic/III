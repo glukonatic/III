{
  "nbformat": 4,
  "nbformat_minor": 0,
  "metadata": {
    "colab": {
      "name": "14_Light+Pro",
      "provenance": [],
      "collapsed_sections": [
        "RDxeihw0-GQW"
      ],
      "toc_visible": true,
      "machine_shape": "hm",
      "include_colab_link": true
    },
    "kernelspec": {
      "name": "python3",
      "display_name": "Python 3"
    },
    "accelerator": "GPU"
  },
  "cells": [
    {
      "cell_type": "markdown",
      "metadata": {
        "id": "view-in-github",
        "colab_type": "text"
      },
      "source": [
        "<a href=\"https://colab.research.google.com/github/glukonatic/III/blob/master/14_Light%2BPro.ipynb\" target=\"_parent\"><img src=\"https://colab.research.google.com/assets/colab-badge.svg\" alt=\"Open In Colab\"/></a>"
      ]
    },
    {
      "cell_type": "markdown",
      "metadata": {
        "id": "pUVroAl88IWV"
      },
      "source": [
        "# Домашнее задание к занятию №14 \"Сегментация текста\"\n",
        "## студента Университета искусственного интеллекта\n",
        "## Наговицына Антона Михайловича\n",
        "### Поток PRO НС - июль 2020 (основной тариф).\n",
        "\n",
        "Части Лайт + Про\n",
        "\n",
        "<img src=\"https://proza.ru/photos/glukonatic.jpg\" alt=\"Фото Антон Наговицын\" width=\"10%\">"
      ]
    },
    {
      "cell_type": "markdown",
      "metadata": {
        "id": "N0R9sZ84-4Yr"
      },
      "source": [
        "#Light"
      ]
    },
    {
      "cell_type": "markdown",
      "metadata": {
        "id": "T0zEGnMT7RCC"
      },
      "source": [
        "**Light задание. Вариант 1**\n",
        " \n",
        "Сделайте свою собственную архитектуру и запустите, оцените точность на проверочной выборке\n",
        "\n",
        "Возьмите “лучшую” архитектуру и проведите несколько экспериментов, меняя гиперпараметры выбранной архитектуры.\n",
        "\n",
        "Напишите ваши выводы\n"
      ]
    },
    {
      "cell_type": "markdown",
      "metadata": {
        "id": "xYmmPE1_BpdN"
      },
      "source": [
        "## Загрузка библиотек, объявление функций, подготовка данных"
      ]
    },
    {
      "cell_type": "code",
      "metadata": {
        "id": "9_u1JDq5JuIB",
        "colab": {
          "base_uri": "https://localhost:8080/"
        },
        "cellView": "form",
        "outputId": "bc30a3c9-5dd2-4230-f4cf-dad34a27edcd"
      },
      "source": [
        "#@title Предустановка недостающей библиотеки\n",
        "\n",
        "!pip install pymorphy2"
      ],
      "execution_count": 1,
      "outputs": [
        {
          "output_type": "stream",
          "text": [
            "Collecting pymorphy2\n",
            "\u001b[?25l  Downloading https://files.pythonhosted.org/packages/07/57/b2ff2fae3376d4f3c697b9886b64a54b476e1a332c67eee9f88e7f1ae8c9/pymorphy2-0.9.1-py3-none-any.whl (55kB)\n",
            "\r\u001b[K     |██████                          | 10kB 29.8MB/s eta 0:00:01\r\u001b[K     |███████████▉                    | 20kB 13.7MB/s eta 0:00:01\r\u001b[K     |█████████████████▊              | 30kB 12.5MB/s eta 0:00:01\r\u001b[K     |███████████████████████▋        | 40kB 9.6MB/s eta 0:00:01\r\u001b[K     |█████████████████████████████▌  | 51kB 8.6MB/s eta 0:00:01\r\u001b[K     |████████████████████████████████| 61kB 5.0MB/s \n",
            "\u001b[?25hCollecting dawg-python>=0.7.1\n",
            "  Downloading https://files.pythonhosted.org/packages/6a/84/ff1ce2071d4c650ec85745766c0047ccc3b5036f1d03559fd46bb38b5eeb/DAWG_Python-0.7.2-py2.py3-none-any.whl\n",
            "Collecting pymorphy2-dicts-ru<3.0,>=2.4\n",
            "\u001b[?25l  Downloading https://files.pythonhosted.org/packages/3a/79/bea0021eeb7eeefde22ef9e96badf174068a2dd20264b9a378f2be1cdd9e/pymorphy2_dicts_ru-2.4.417127.4579844-py2.py3-none-any.whl (8.2MB)\n",
            "\u001b[K     |████████████████████████████████| 8.2MB 12.5MB/s \n",
            "\u001b[?25hRequirement already satisfied: docopt>=0.6 in /usr/local/lib/python3.6/dist-packages (from pymorphy2) (0.6.2)\n",
            "Installing collected packages: dawg-python, pymorphy2-dicts-ru, pymorphy2\n",
            "Successfully installed dawg-python-0.7.2 pymorphy2-0.9.1 pymorphy2-dicts-ru-2.4.417127.4579844\n"
          ],
          "name": "stdout"
        }
      ]
    },
    {
      "cell_type": "code",
      "metadata": {
        "id": "sRlL52JyWSPt",
        "cellView": "form"
      },
      "source": [
        "#@title Импорт библиотек\n",
        "\n",
        "import numpy as np\n",
        "from tensorflow.keras.models import Model, load_model \n",
        "import re\n",
        "from tensorflow.keras.preprocessing.text import Tokenizer\n",
        "from tensorflow.keras.layers import Dense, Embedding, Input, concatenate, Activation, MaxPooling1D, Conv1D, BatchNormalization, Dropout, Conv2DTranspose, Lambda\n",
        "from tensorflow.keras import backend as K \n",
        "from tensorflow.keras.optimizers import Adam, Adadelta\n",
        "from tensorflow.keras import utils \n",
        "from google.colab import files \n",
        "import matplotlib.pyplot as plt \n",
        "import os \n",
        "import pandas as pd \n",
        "import pymorphy2 \n",
        "import time"
      ],
      "execution_count": 2,
      "outputs": []
    },
    {
      "cell_type": "code",
      "metadata": {
        "id": "Bi0hqbHxZSfI",
        "colab": {
          "base_uri": "https://localhost:8080/"
        },
        "cellView": "form",
        "outputId": "ca9006f4-c899-4d90-dd28-87aa2e9a243b"
      },
      "source": [
        "#@title Подключение папки гуглдрайва\n",
        "\n",
        "from google.colab import drive\n",
        "drive.mount('/content/drive')"
      ],
      "execution_count": 3,
      "outputs": [
        {
          "output_type": "stream",
          "text": [
            "Mounted at /content/drive\n"
          ],
          "name": "stdout"
        }
      ]
    },
    {
      "cell_type": "code",
      "metadata": {
        "id": "qpNyydnOPRcn",
        "cellView": "form"
      },
      "source": [
        "#@title Функции\n",
        "\n",
        "def readText(fileName):\n",
        "  f = open(fileName, 'r')\n",
        "  text = f.read() \n",
        "  delSymbols = ['\\n', \"\\t\", \"\\ufeff\", \".\", \"_\", \"-\", \",\", \"!\", \"?\", \"–\", \"(\", \")\", \"«\", \"»\", \"№\", \";\"]\n",
        "\n",
        "  for dS in delSymbols:\n",
        "    text = text.replace(dS, \" \")\n",
        "\n",
        "  text = re.sub(\"[.]\", \" \", text) \n",
        "  text = re.sub(\":\", \" \", text)\n",
        "  text = re.sub(\"<\", \" <\", text)\n",
        "  text = re.sub(\">\", \"> \", text)\n",
        "\n",
        "  text = ' '.join(text.split()) \n",
        "\n",
        "  text = text.lower()\n",
        "  return text\n",
        "\n",
        "\n",
        "def text2Words(text):\n",
        "  morph = pymorphy2.MorphAnalyzer()\n",
        "  words = text.split(' ')\n",
        "  words = [morph.parse(word)[0].normal_form for word in words] \n",
        "  return words \n",
        "\n",
        "\n",
        "def get01XSamples(tok_agreem, tags_index):\n",
        "  tags01 = [] \n",
        "  indexes = [] \n",
        " \n",
        "  for agreement in tok_agreem: \n",
        "    tag_place = [0, 0, 0, 0, 0, 0] \n",
        "    for ex in agreement: \n",
        "        if ex in tags_index: \n",
        "          place = np.argwhere(tags_index==ex) \n",
        "          if len(place)!=0: \n",
        "            if place[0][0]<6:\n",
        "              tag_place[place[0][0]] = 1    \n",
        "            else: \n",
        "              tag_place[place[0][0] - 6] = 0  \n",
        "        else:          \n",
        "          tags01.append(tag_place.copy())\n",
        "          indexes.append(ex) \n",
        "\n",
        "  return indexes, tags01\n",
        "\n",
        "\n",
        "def reverseIndex(clean_voc, x):\n",
        "  reverse_word_map = dict(map(reversed, clean_voc.items())) \n",
        "  words = [reverse_word_map.get(letter) for letter in x] \n",
        "  return words \n",
        "\n",
        "\n",
        "def getSetFromIndexes(wordIndexes, xLen, step): \n",
        "  xBatch = [] \n",
        "  wordsLen = len(wordIndexes) \n",
        "  index = 0 \n",
        "  \n",
        "  while (index + xLen <= wordsLen):\n",
        "    xBatch.append(wordIndexes[index:index+xLen]) \n",
        "    index += step \n",
        "\n",
        "  return xBatch \n",
        "\n",
        "\n",
        "def dice_coef(y_true, y_pred):\n",
        "    return (2. * K.sum(y_true * y_pred) + 1.) / (K.sum(y_true) + K.sum(y_pred) + 1.)\n",
        "\n",
        "\n",
        "def dice_coef_mod(y_true, y_pred, smooth=1):\n",
        "\n",
        "    \"\"\"\n",
        "    Dice = (2*|X & Y|)/ (|X|+ |Y|)\n",
        "         =  2*sum(|A*B|)/(sum(A^2)+sum(B^2))\n",
        "    ref: https://arxiv.org/pdf/1606.04797v1.pdf\n",
        "    \"\"\"\n",
        "    \n",
        "    intersection = K.sum(K.abs(y_true * y_pred), axis=-1)\n",
        "    \n",
        "    return (2. * intersection + smooth) / (K.sum(K.square(y_true),-1) + K.sum(K.square(y_pred),-1) + smooth)\n",
        "\n",
        "\n",
        "def recognizeSet(tagI, pred, tags, length, value):\n",
        "  total=0\n",
        "\n",
        "  for j in range(6): \n",
        "    correct=0\n",
        "    for i in range(len(tagI)): \n",
        "      for k in range(length): \n",
        "        if tagI[i][k][j]==(pred[i][k][j]>value).astype(int):\n",
        "          correct+=1 \n",
        "    print(\"Сеть распознала категорию '{}' на {}%\".format(tags[j],round(100*correct/(len(tagI)*length), 2)))\n",
        "    total += 100 * correct / (len(tagI)*length)\n",
        "  print(\"Cредняя точность {}%\".format(total/6))\n"
      ],
      "execution_count": 4,
      "outputs": []
    },
    {
      "cell_type": "code",
      "metadata": {
        "id": "d5rJ2y2BPXoT",
        "cellView": "form"
      },
      "source": [
        "#@title Подготовка данных\n",
        "\n",
        "directory = '/content/drive/MyDrive/III/14/Договора432/'\n",
        "\n",
        "agreements = [] \n",
        "for filename in os.listdir(directory):\n",
        "  txt = readText(directory + filename)\n",
        "  if txt != '':\n",
        "    agreements.append(readText(directory + filename)) \n",
        "\n",
        "words = []\n",
        "for i in range(len(agreements)): \n",
        "  words.append(text2Words(agreements[i])) \n",
        "  \n",
        "wordsToTest = words[-10:] \n",
        "words = words[:-10] \n",
        "\n",
        "tokenizer = Tokenizer(lower=True, filters = '', char_level=False)\n",
        "tokenizer.fit_on_texts(words) \n",
        "\n",
        "clean_voc = {} \n",
        "\n",
        "for item in tokenizer.word_index.items(): \n",
        "  clean_voc[item[0]] = item[1] \n",
        "\n",
        "tok_agreem = tokenizer.texts_to_sequences(words) \n",
        "\n",
        "tags_index = ['<s' + str(i) + '>' for i in range(1, 7)] \n",
        "closetags = ['</s' + str(i) + '>' for i in range(1, 7)]\n",
        "tags_index.extend(closetags) \n",
        "tags_index = np.array([clean_voc[i] for i in tags_index]) \n",
        "\n",
        "xData, yData = get01XSamples(tok_agreem,tags_index) \n",
        "\n",
        "decoded_text = reverseIndex(clean_voc, xData)\n",
        "\n",
        "xLen = 256\n",
        "step = 30 \n",
        "\n",
        "xTrain = getSetFromIndexes(decoded_text, xLen, step) \n",
        "xTrain = tokenizer.texts_to_sequences(xTrain)\n",
        "xTrain = np.asarray(xTrain)\n",
        "\n",
        "yTrain = getSetFromIndexes(yData, xLen, step) \n",
        "yTrain = np.array(yTrain)\n",
        "\n",
        "tok_agreemTest = tokenizer.texts_to_sequences(wordsToTest) \n",
        "\n",
        "xDataTest, yDataTest = get01XSamples(tok_agreemTest,tags_index) \n",
        "\n",
        "test_decoded_text = reverseIndex(clean_voc, xDataTest) \n",
        "\n",
        "xTest = getSetFromIndexes(test_decoded_text, xLen, step) \n",
        "xTest = tokenizer.texts_to_sequences(xTest)\n",
        "xTest = np.asarray(xTest)\n",
        "\n",
        "yTest = getSetFromIndexes(yDataTest, xLen, step) \n",
        "yTest = np.array(yTest)\n",
        "\n",
        "tags = ['S1', 'S2', 'S3', 'S4', 'S5', 'S6']"
      ],
      "execution_count": 5,
      "outputs": []
    },
    {
      "cell_type": "markdown",
      "metadata": {
        "id": "M_nkaBfr9XgG"
      },
      "source": [
        "## Нейронки"
      ]
    },
    {
      "cell_type": "markdown",
      "metadata": {
        "id": "C1NFuiRXBZ92"
      },
      "source": [
        "### НС Embedding+Conv1D"
      ]
    },
    {
      "cell_type": "code",
      "metadata": {
        "id": "sjlPmJ2ed8qY",
        "cellView": "form"
      },
      "source": [
        "#@title Функция создания НС\n",
        "\n",
        "def create_Conv1d_emb(xLen, embeddingSize): \n",
        "  text_input_layer = Input((xLen)) \n",
        "\n",
        "  text_layer = Embedding(len(decoded_text), embeddingSize, input_length=xLen)(text_input_layer)\n",
        "  text_layer = Conv1D(16, 3, padding='same',activation='relu')(text_layer)\n",
        "  text_layer = Conv1D(16, 3, padding='same',activation='relu')(text_layer)\n",
        "  text_layer = Conv1D(16, 3,padding='same', activation='relu')(text_layer) \n",
        "  text_layer = Conv1D(yTrain.shape[-1], 3, padding='same',activation='sigmoid')(text_layer)\n",
        "  model = Model(text_input_layer, text_layer)\n",
        "  model.compile(optimizer=Adadelta(),\n",
        "                    loss='categorical_crossentropy',\n",
        "                    metrics=[dice_coef])\n",
        "  return model"
      ],
      "execution_count": 8,
      "outputs": []
    },
    {
      "cell_type": "code",
      "metadata": {
        "colab": {
          "base_uri": "https://localhost:8080/"
        },
        "id": "pJ8yKceOeKYv",
        "cellView": "form",
        "outputId": "3ace362e-4fb1-405e-ad50-a8506383ef6d"
      },
      "source": [
        "#@title Создание сети, вывод информации\n",
        "\n",
        "model_Conv1D = create_Conv1d_emb(xLen, 10)\n",
        "model_Conv1D.summary() "
      ],
      "execution_count": 9,
      "outputs": [
        {
          "output_type": "stream",
          "text": [
            "Model: \"functional_1\"\n",
            "_________________________________________________________________\n",
            "Layer (type)                 Output Shape              Param #   \n",
            "=================================================================\n",
            "input_2 (InputLayer)         [(None, 256)]             0         \n",
            "_________________________________________________________________\n",
            "embedding_1 (Embedding)      (None, 256, 10)           4049990   \n",
            "_________________________________________________________________\n",
            "conv1d_3 (Conv1D)            (None, 256, 16)           496       \n",
            "_________________________________________________________________\n",
            "conv1d_4 (Conv1D)            (None, 256, 16)           784       \n",
            "_________________________________________________________________\n",
            "conv1d_5 (Conv1D)            (None, 256, 16)           784       \n",
            "_________________________________________________________________\n",
            "conv1d_6 (Conv1D)            (None, 256, 6)            294       \n",
            "=================================================================\n",
            "Total params: 4,052,348\n",
            "Trainable params: 4,052,348\n",
            "Non-trainable params: 0\n",
            "_________________________________________________________________\n"
          ],
          "name": "stdout"
        }
      ]
    },
    {
      "cell_type": "code",
      "metadata": {
        "colab": {
          "base_uri": "https://localhost:8080/"
        },
        "id": "r9UfyDwfecyf",
        "cellView": "form",
        "outputId": "a213fe50-9e4c-4e12-c57f-a560b2048800"
      },
      "source": [
        "#@title Обучение сети\n",
        "\n",
        "history_Conv1D = model_Conv1D.fit(xTrain, yTrain, epochs=20, batch_size=200, validation_split = 0.2) "
      ],
      "execution_count": 10,
      "outputs": [
        {
          "output_type": "stream",
          "text": [
            "Epoch 1/20\n",
            "54/54 [==============================] - 1s 13ms/step - loss: 1.2930 - dice_coef: 0.1941 - val_loss: 1.3499 - val_dice_coef: 0.2009\n",
            "Epoch 2/20\n",
            "54/54 [==============================] - 0s 8ms/step - loss: 1.2930 - dice_coef: 0.1941 - val_loss: 1.3498 - val_dice_coef: 0.2009\n",
            "Epoch 3/20\n",
            "54/54 [==============================] - 0s 8ms/step - loss: 1.2929 - dice_coef: 0.1941 - val_loss: 1.3498 - val_dice_coef: 0.2009\n",
            "Epoch 4/20\n",
            "54/54 [==============================] - 0s 8ms/step - loss: 1.2928 - dice_coef: 0.1941 - val_loss: 1.3497 - val_dice_coef: 0.2009\n",
            "Epoch 5/20\n",
            "54/54 [==============================] - 0s 8ms/step - loss: 1.2928 - dice_coef: 0.1941 - val_loss: 1.3496 - val_dice_coef: 0.2010\n",
            "Epoch 6/20\n",
            "54/54 [==============================] - 0s 8ms/step - loss: 1.2927 - dice_coef: 0.1941 - val_loss: 1.3496 - val_dice_coef: 0.2010\n",
            "Epoch 7/20\n",
            "54/54 [==============================] - 0s 8ms/step - loss: 1.2926 - dice_coef: 0.1942 - val_loss: 1.3495 - val_dice_coef: 0.2010\n",
            "Epoch 8/20\n",
            "54/54 [==============================] - 0s 8ms/step - loss: 1.2926 - dice_coef: 0.1942 - val_loss: 1.3494 - val_dice_coef: 0.2010\n",
            "Epoch 9/20\n",
            "54/54 [==============================] - 0s 7ms/step - loss: 1.2925 - dice_coef: 0.1942 - val_loss: 1.3494 - val_dice_coef: 0.2010\n",
            "Epoch 10/20\n",
            "54/54 [==============================] - 0s 8ms/step - loss: 1.2924 - dice_coef: 0.1942 - val_loss: 1.3493 - val_dice_coef: 0.2010\n",
            "Epoch 11/20\n",
            "54/54 [==============================] - 0s 8ms/step - loss: 1.2923 - dice_coef: 0.1942 - val_loss: 1.3492 - val_dice_coef: 0.2011\n",
            "Epoch 12/20\n",
            "54/54 [==============================] - 0s 8ms/step - loss: 1.2922 - dice_coef: 0.1943 - val_loss: 1.3491 - val_dice_coef: 0.2011\n",
            "Epoch 13/20\n",
            "54/54 [==============================] - 0s 8ms/step - loss: 1.2921 - dice_coef: 0.1943 - val_loss: 1.3491 - val_dice_coef: 0.2011\n",
            "Epoch 14/20\n",
            "54/54 [==============================] - 0s 8ms/step - loss: 1.2920 - dice_coef: 0.1943 - val_loss: 1.3490 - val_dice_coef: 0.2011\n",
            "Epoch 15/20\n",
            "54/54 [==============================] - 0s 8ms/step - loss: 1.2919 - dice_coef: 0.1943 - val_loss: 1.3489 - val_dice_coef: 0.2011\n",
            "Epoch 16/20\n",
            "54/54 [==============================] - 0s 8ms/step - loss: 1.2919 - dice_coef: 0.1943 - val_loss: 1.3488 - val_dice_coef: 0.2012\n",
            "Epoch 17/20\n",
            "54/54 [==============================] - 0s 8ms/step - loss: 1.2918 - dice_coef: 0.1944 - val_loss: 1.3487 - val_dice_coef: 0.2012\n",
            "Epoch 18/20\n",
            "54/54 [==============================] - 0s 8ms/step - loss: 1.2917 - dice_coef: 0.1944 - val_loss: 1.3486 - val_dice_coef: 0.2012\n",
            "Epoch 19/20\n",
            "54/54 [==============================] - 0s 8ms/step - loss: 1.2915 - dice_coef: 0.1944 - val_loss: 1.3485 - val_dice_coef: 0.2012\n",
            "Epoch 20/20\n",
            "54/54 [==============================] - 0s 8ms/step - loss: 1.2914 - dice_coef: 0.1945 - val_loss: 1.3484 - val_dice_coef: 0.2013\n"
          ],
          "name": "stdout"
        }
      ]
    },
    {
      "cell_type": "code",
      "metadata": {
        "colab": {
          "base_uri": "https://localhost:8080/"
        },
        "cellView": "form",
        "id": "fx4H5RgBGKtl",
        "outputId": "98de9fd0-814b-4211-99d7-c7fee9f193f1"
      },
      "source": [
        "#@title Результаты обучения: Качество модели\n",
        "\n",
        "recognizeSet(yTest, model_Conv1D.predict(xTest), tags, xLen, 0.999)"
      ],
      "execution_count": 13,
      "outputs": [
        {
          "output_type": "stream",
          "text": [
            "Сеть распознала категорию 'S1' на 68.71%\n",
            "Сеть распознала категорию 'S2' на 98.05%\n",
            "Сеть распознала категорию 'S3' на 87.71%\n",
            "Сеть распознала категорию 'S4' на 87.39%\n",
            "Сеть распознала категорию 'S5' на 92.45%\n",
            "Сеть распознала категорию 'S6' на 99.95%\n",
            "Cредняя точность 89.04402943586142%\n"
          ],
          "name": "stdout"
        }
      ]
    },
    {
      "cell_type": "markdown",
      "metadata": {
        "id": "u38yiR5KB53W"
      },
      "source": [
        "### НС PSPNet+Embedding"
      ]
    },
    {
      "cell_type": "code",
      "metadata": {
        "cellView": "form",
        "id": "iBG0rUvzD_RD"
      },
      "source": [
        "#@title Функция создания НС\n",
        "\n",
        "def create_PSPNet_emb(xLen, embeddingSize, conv_size = 64, num_classes = 6):\n",
        "\n",
        "    def Conv1DTranspose(input_tensor, filters, kernel_size=1, strides=2, padding='same'):\n",
        "        \"\"\"\n",
        "        input_tensor: входной тензор (batch_size, time_steps, dims)\n",
        "        filters: int, output dimension, выходной тензор будет иметь размер (batch_size, time_steps, filters)\n",
        "        kernel_size: размер ядра свертки \n",
        "        strides: int, шаг ядра\n",
        "        padding: 'same' | действительный\n",
        "        \"\"\"\n",
        "        x = Lambda(lambda x: K.expand_dims(x, axis=2))(input_tensor)\n",
        "        x = Conv2DTranspose(filters=filters, kernel_size=(kernel_size, 1), strides=(strides, 1), padding=padding)(x)\n",
        "        x = Lambda(lambda x: K.squeeze(x, axis=2))(x)\n",
        "        return x\n",
        "        \n",
        "    img_input = Input((xLen))\n",
        "\n",
        "    # Block 1\n",
        "    x = Embedding(len(decoded_text), embeddingSize, input_length=xLen)(img_input)\n",
        "\n",
        "    x_input = x\n",
        "\n",
        "    x = Conv1D(conv_size, 3, padding='same')(x)\n",
        "\n",
        "    x = BatchNormalization()(x)\n",
        "    x = Activation('relu')(x)\n",
        "    \n",
        "    x = Conv1D(conv_size, 3, padding='same')(x)\n",
        "    x = BatchNormalization()(x)\n",
        "    x = Activation('relu')(x)\n",
        "\n",
        "    x_mp_2 = MaxPooling1D(2)(x)\n",
        "    x_mp_4 = MaxPooling1D(4)(x)\n",
        "    x_mp_8 = MaxPooling1D(8)(x)\n",
        "    x_mp_16 = MaxPooling1D(16)(x)\n",
        "    x_mp_32 = MaxPooling1D(32)(x)\n",
        "\n",
        "    x_mp_2 = Conv1D(conv_size, 3, padding='same', activation='relu')(x_mp_2)\n",
        "    x_mp_2 = Dropout(0.5)(x_mp_2)\n",
        "\n",
        "    x_mp_4 = Conv1D(conv_size, 3, padding='same', activation='relu')(x_mp_4)\n",
        "    x_mp_4 = Dropout(0.5)(x_mp_4)\n",
        "\n",
        "    x_mp_8 = Conv1D(conv_size, 3, padding='same', activation='relu')(x_mp_8)\n",
        "    x_mp_8 = Dropout(0.5)(x_mp_8)\n",
        "\n",
        "    x_mp_16 = Conv1D(conv_size, 3, padding='same', activation='relu')(x_mp_16)\n",
        "    x_mp_16 = Dropout(0.5)(x_mp_16)\n",
        "\n",
        "    x_mp_32 = Conv1D(conv_size, 3, padding='same', activation='relu')(x_mp_32)\n",
        "    x_mp_32 = Dropout(0.5)(x_mp_32) \n",
        "\n",
        "    x_mp_2 = Conv1DTranspose(x_mp_2,conv_size, 2)\n",
        "    x_mp_2 = Activation('relu')(x_mp_2)\n",
        "\n",
        "    x_mp_4 = Conv1DTranspose(x_mp_4,conv_size, 4, strides=4)\n",
        "    x_mp_4 = Activation('relu')(x_mp_4)\n",
        "\n",
        "    x_mp_8 = Conv1DTranspose(x_mp_8,conv_size, 8, strides=8)\n",
        "    x_mp_8 = Activation('relu')(x_mp_8)\n",
        "\n",
        "    x_mp_16 = Conv1DTranspose(x_mp_16,conv_size, 16, strides=16)\n",
        "    x_mp_16 = Activation('relu')(x_mp_16)\n",
        "\n",
        "    x_mp_32 = Conv1DTranspose(x_mp_32,conv_size, 32, strides=32)\n",
        "    x_mp_32 = Activation('relu')(x_mp_32)\n",
        "\n",
        "\n",
        "    fin = concatenate([x_input, x_mp_2, x_mp_4, x_mp_8, x_mp_16, x_mp_32])    \n",
        "    fin = Conv1D(conv_size, 3, padding='same')(fin)\n",
        "    fin = BatchNormalization()(fin)\n",
        "    fin = Activation('relu')(fin)\n",
        "    fin = Conv1D(conv_size, 3, padding='same')(fin)\n",
        "    fin = BatchNormalization()(fin)\n",
        "    fin = Activation('relu')(fin)\n",
        "\n",
        "    fin = Conv1D(num_classes, 3, activation='sigmoid', padding='same')(fin)\n",
        "\n",
        "    model = Model(img_input, fin)\n",
        "    model.compile(optimizer=Adadelta(lr=0.001),\n",
        "                  loss='categorical_crossentropy',\n",
        "                  metrics=[dice_coef])\n",
        "    \n",
        "    return model\n"
      ],
      "execution_count": 14,
      "outputs": []
    },
    {
      "cell_type": "code",
      "metadata": {
        "colab": {
          "base_uri": "https://localhost:8080/"
        },
        "cellView": "form",
        "id": "Y4pOuZP-Fuwt",
        "outputId": "0e6ba5cf-2202-4ca6-d6a0-145f67ec5dda"
      },
      "source": [
        "#@title Создание сети, вывод информации\n",
        "\n",
        "model_PSPnet = create_PSPNet_emb(xLen, embeddingSize = 10, conv_size = 256)\n",
        "model_PSPnet.summary()"
      ],
      "execution_count": 15,
      "outputs": [
        {
          "output_type": "stream",
          "text": [
            "Model: \"functional_3\"\n",
            "__________________________________________________________________________________________________\n",
            "Layer (type)                    Output Shape         Param #     Connected to                     \n",
            "==================================================================================================\n",
            "input_3 (InputLayer)            [(None, 256)]        0                                            \n",
            "__________________________________________________________________________________________________\n",
            "embedding_2 (Embedding)         (None, 256, 10)      4049990     input_3[0][0]                    \n",
            "__________________________________________________________________________________________________\n",
            "conv1d_7 (Conv1D)               (None, 256, 256)     7936        embedding_2[0][0]                \n",
            "__________________________________________________________________________________________________\n",
            "batch_normalization (BatchNorma (None, 256, 256)     1024        conv1d_7[0][0]                   \n",
            "__________________________________________________________________________________________________\n",
            "activation (Activation)         (None, 256, 256)     0           batch_normalization[0][0]        \n",
            "__________________________________________________________________________________________________\n",
            "conv1d_8 (Conv1D)               (None, 256, 256)     196864      activation[0][0]                 \n",
            "__________________________________________________________________________________________________\n",
            "batch_normalization_1 (BatchNor (None, 256, 256)     1024        conv1d_8[0][0]                   \n",
            "__________________________________________________________________________________________________\n",
            "activation_1 (Activation)       (None, 256, 256)     0           batch_normalization_1[0][0]      \n",
            "__________________________________________________________________________________________________\n",
            "max_pooling1d (MaxPooling1D)    (None, 128, 256)     0           activation_1[0][0]               \n",
            "__________________________________________________________________________________________________\n",
            "max_pooling1d_1 (MaxPooling1D)  (None, 64, 256)      0           activation_1[0][0]               \n",
            "__________________________________________________________________________________________________\n",
            "max_pooling1d_2 (MaxPooling1D)  (None, 32, 256)      0           activation_1[0][0]               \n",
            "__________________________________________________________________________________________________\n",
            "max_pooling1d_3 (MaxPooling1D)  (None, 16, 256)      0           activation_1[0][0]               \n",
            "__________________________________________________________________________________________________\n",
            "max_pooling1d_4 (MaxPooling1D)  (None, 8, 256)       0           activation_1[0][0]               \n",
            "__________________________________________________________________________________________________\n",
            "conv1d_9 (Conv1D)               (None, 128, 256)     196864      max_pooling1d[0][0]              \n",
            "__________________________________________________________________________________________________\n",
            "conv1d_10 (Conv1D)              (None, 64, 256)      196864      max_pooling1d_1[0][0]            \n",
            "__________________________________________________________________________________________________\n",
            "conv1d_11 (Conv1D)              (None, 32, 256)      196864      max_pooling1d_2[0][0]            \n",
            "__________________________________________________________________________________________________\n",
            "conv1d_12 (Conv1D)              (None, 16, 256)      196864      max_pooling1d_3[0][0]            \n",
            "__________________________________________________________________________________________________\n",
            "conv1d_13 (Conv1D)              (None, 8, 256)       196864      max_pooling1d_4[0][0]            \n",
            "__________________________________________________________________________________________________\n",
            "dropout (Dropout)               (None, 128, 256)     0           conv1d_9[0][0]                   \n",
            "__________________________________________________________________________________________________\n",
            "dropout_1 (Dropout)             (None, 64, 256)      0           conv1d_10[0][0]                  \n",
            "__________________________________________________________________________________________________\n",
            "dropout_2 (Dropout)             (None, 32, 256)      0           conv1d_11[0][0]                  \n",
            "__________________________________________________________________________________________________\n",
            "dropout_3 (Dropout)             (None, 16, 256)      0           conv1d_12[0][0]                  \n",
            "__________________________________________________________________________________________________\n",
            "dropout_4 (Dropout)             (None, 8, 256)       0           conv1d_13[0][0]                  \n",
            "__________________________________________________________________________________________________\n",
            "lambda (Lambda)                 (None, 128, 1, 256)  0           dropout[0][0]                    \n",
            "__________________________________________________________________________________________________\n",
            "lambda_2 (Lambda)               (None, 64, 1, 256)   0           dropout_1[0][0]                  \n",
            "__________________________________________________________________________________________________\n",
            "lambda_4 (Lambda)               (None, 32, 1, 256)   0           dropout_2[0][0]                  \n",
            "__________________________________________________________________________________________________\n",
            "lambda_6 (Lambda)               (None, 16, 1, 256)   0           dropout_3[0][0]                  \n",
            "__________________________________________________________________________________________________\n",
            "lambda_8 (Lambda)               (None, 8, 1, 256)    0           dropout_4[0][0]                  \n",
            "__________________________________________________________________________________________________\n",
            "conv2d_transpose (Conv2DTranspo (None, 256, 1, 256)  131328      lambda[0][0]                     \n",
            "__________________________________________________________________________________________________\n",
            "conv2d_transpose_1 (Conv2DTrans (None, 256, 1, 256)  262400      lambda_2[0][0]                   \n",
            "__________________________________________________________________________________________________\n",
            "conv2d_transpose_2 (Conv2DTrans (None, 256, 1, 256)  524544      lambda_4[0][0]                   \n",
            "__________________________________________________________________________________________________\n",
            "conv2d_transpose_3 (Conv2DTrans (None, 256, 1, 256)  1048832     lambda_6[0][0]                   \n",
            "__________________________________________________________________________________________________\n",
            "conv2d_transpose_4 (Conv2DTrans (None, 256, 1, 256)  2097408     lambda_8[0][0]                   \n",
            "__________________________________________________________________________________________________\n",
            "lambda_1 (Lambda)               (None, 256, 256)     0           conv2d_transpose[0][0]           \n",
            "__________________________________________________________________________________________________\n",
            "lambda_3 (Lambda)               (None, 256, 256)     0           conv2d_transpose_1[0][0]         \n",
            "__________________________________________________________________________________________________\n",
            "lambda_5 (Lambda)               (None, 256, 256)     0           conv2d_transpose_2[0][0]         \n",
            "__________________________________________________________________________________________________\n",
            "lambda_7 (Lambda)               (None, 256, 256)     0           conv2d_transpose_3[0][0]         \n",
            "__________________________________________________________________________________________________\n",
            "lambda_9 (Lambda)               (None, 256, 256)     0           conv2d_transpose_4[0][0]         \n",
            "__________________________________________________________________________________________________\n",
            "activation_2 (Activation)       (None, 256, 256)     0           lambda_1[0][0]                   \n",
            "__________________________________________________________________________________________________\n",
            "activation_3 (Activation)       (None, 256, 256)     0           lambda_3[0][0]                   \n",
            "__________________________________________________________________________________________________\n",
            "activation_4 (Activation)       (None, 256, 256)     0           lambda_5[0][0]                   \n",
            "__________________________________________________________________________________________________\n",
            "activation_5 (Activation)       (None, 256, 256)     0           lambda_7[0][0]                   \n",
            "__________________________________________________________________________________________________\n",
            "activation_6 (Activation)       (None, 256, 256)     0           lambda_9[0][0]                   \n",
            "__________________________________________________________________________________________________\n",
            "concatenate (Concatenate)       (None, 256, 1290)    0           embedding_2[0][0]                \n",
            "                                                                 activation_2[0][0]               \n",
            "                                                                 activation_3[0][0]               \n",
            "                                                                 activation_4[0][0]               \n",
            "                                                                 activation_5[0][0]               \n",
            "                                                                 activation_6[0][0]               \n",
            "__________________________________________________________________________________________________\n",
            "conv1d_14 (Conv1D)              (None, 256, 256)     990976      concatenate[0][0]                \n",
            "__________________________________________________________________________________________________\n",
            "batch_normalization_2 (BatchNor (None, 256, 256)     1024        conv1d_14[0][0]                  \n",
            "__________________________________________________________________________________________________\n",
            "activation_7 (Activation)       (None, 256, 256)     0           batch_normalization_2[0][0]      \n",
            "__________________________________________________________________________________________________\n",
            "conv1d_15 (Conv1D)              (None, 256, 256)     196864      activation_7[0][0]               \n",
            "__________________________________________________________________________________________________\n",
            "batch_normalization_3 (BatchNor (None, 256, 256)     1024        conv1d_15[0][0]                  \n",
            "__________________________________________________________________________________________________\n",
            "activation_8 (Activation)       (None, 256, 256)     0           batch_normalization_3[0][0]      \n",
            "__________________________________________________________________________________________________\n",
            "conv1d_16 (Conv1D)              (None, 256, 6)       4614        activation_8[0][0]               \n",
            "==================================================================================================\n",
            "Total params: 10,500,172\n",
            "Trainable params: 10,498,124\n",
            "Non-trainable params: 2,048\n",
            "__________________________________________________________________________________________________\n"
          ],
          "name": "stdout"
        }
      ]
    },
    {
      "cell_type": "code",
      "metadata": {
        "colab": {
          "base_uri": "https://localhost:8080/"
        },
        "cellView": "form",
        "id": "6zCXxvxcGe1q",
        "outputId": "9556fc5a-4882-4d98-fc7d-41283eb0690c"
      },
      "source": [
        "#@title Обучение сети\n",
        "\n",
        "history_PSPNet = model_PSPnet.fit(xTrain, yTrain, epochs=60, batch_size=64, validation_split = 0.2)"
      ],
      "execution_count": 16,
      "outputs": [
        {
          "output_type": "stream",
          "text": [
            "Epoch 1/60\n",
            "169/169 [==============================] - 11s 65ms/step - loss: 1.3384 - dice_coef: 0.1973 - val_loss: 1.3401 - val_dice_coef: 0.2007\n",
            "Epoch 2/60\n",
            "169/169 [==============================] - 10s 61ms/step - loss: 1.3122 - dice_coef: 0.2027 - val_loss: 1.3459 - val_dice_coef: 0.2003\n",
            "Epoch 3/60\n",
            "169/169 [==============================] - 10s 62ms/step - loss: 1.2861 - dice_coef: 0.2088 - val_loss: 1.3254 - val_dice_coef: 0.2074\n",
            "Epoch 4/60\n",
            "169/169 [==============================] - 10s 61ms/step - loss: 1.2599 - dice_coef: 0.2152 - val_loss: 1.2994 - val_dice_coef: 0.2158\n",
            "Epoch 5/60\n",
            "169/169 [==============================] - 10s 61ms/step - loss: 1.2336 - dice_coef: 0.2221 - val_loss: 1.2797 - val_dice_coef: 0.2217\n",
            "Epoch 6/60\n",
            "169/169 [==============================] - 10s 61ms/step - loss: 1.2080 - dice_coef: 0.2292 - val_loss: 1.2592 - val_dice_coef: 0.2273\n",
            "Epoch 7/60\n",
            "169/169 [==============================] - 10s 62ms/step - loss: 1.1826 - dice_coef: 0.2364 - val_loss: 1.2392 - val_dice_coef: 0.2328\n",
            "Epoch 8/60\n",
            "169/169 [==============================] - 10s 62ms/step - loss: 1.1589 - dice_coef: 0.2433 - val_loss: 1.2206 - val_dice_coef: 0.2380\n",
            "Epoch 9/60\n",
            "169/169 [==============================] - 10s 61ms/step - loss: 1.1367 - dice_coef: 0.2501 - val_loss: 1.2031 - val_dice_coef: 0.2431\n",
            "Epoch 10/60\n",
            "169/169 [==============================] - 10s 61ms/step - loss: 1.1171 - dice_coef: 0.2566 - val_loss: 1.1871 - val_dice_coef: 0.2481\n",
            "Epoch 11/60\n",
            "169/169 [==============================] - 10s 61ms/step - loss: 1.0989 - dice_coef: 0.2628 - val_loss: 1.1725 - val_dice_coef: 0.2529\n",
            "Epoch 12/60\n",
            "169/169 [==============================] - 10s 62ms/step - loss: 1.0829 - dice_coef: 0.2687 - val_loss: 1.1589 - val_dice_coef: 0.2576\n",
            "Epoch 13/60\n",
            "169/169 [==============================] - 10s 62ms/step - loss: 1.0684 - dice_coef: 0.2745 - val_loss: 1.1467 - val_dice_coef: 0.2621\n",
            "Epoch 14/60\n",
            "169/169 [==============================] - 10s 61ms/step - loss: 1.0548 - dice_coef: 0.2803 - val_loss: 1.1352 - val_dice_coef: 0.2667\n",
            "Epoch 15/60\n",
            "169/169 [==============================] - 10s 62ms/step - loss: 1.0424 - dice_coef: 0.2859 - val_loss: 1.1243 - val_dice_coef: 0.2712\n",
            "Epoch 16/60\n",
            "169/169 [==============================] - 10s 62ms/step - loss: 1.0304 - dice_coef: 0.2919 - val_loss: 1.1136 - val_dice_coef: 0.2759\n",
            "Epoch 17/60\n",
            "169/169 [==============================] - 10s 61ms/step - loss: 1.0188 - dice_coef: 0.2976 - val_loss: 1.1032 - val_dice_coef: 0.2807\n",
            "Epoch 18/60\n",
            "169/169 [==============================] - 10s 61ms/step - loss: 1.0074 - dice_coef: 0.3038 - val_loss: 1.0933 - val_dice_coef: 0.2855\n",
            "Epoch 19/60\n",
            "169/169 [==============================] - 10s 61ms/step - loss: 0.9971 - dice_coef: 0.3097 - val_loss: 1.0838 - val_dice_coef: 0.2903\n",
            "Epoch 20/60\n",
            "169/169 [==============================] - 10s 61ms/step - loss: 0.9866 - dice_coef: 0.3156 - val_loss: 1.0750 - val_dice_coef: 0.2948\n",
            "Epoch 21/60\n",
            "169/169 [==============================] - 10s 61ms/step - loss: 0.9774 - dice_coef: 0.3210 - val_loss: 1.0671 - val_dice_coef: 0.2992\n",
            "Epoch 22/60\n",
            "169/169 [==============================] - 10s 62ms/step - loss: 0.9691 - dice_coef: 0.3263 - val_loss: 1.0599 - val_dice_coef: 0.3034\n",
            "Epoch 23/60\n",
            "169/169 [==============================] - 10s 62ms/step - loss: 0.9616 - dice_coef: 0.3311 - val_loss: 1.0537 - val_dice_coef: 0.3072\n",
            "Epoch 24/60\n",
            "169/169 [==============================] - 10s 62ms/step - loss: 0.9553 - dice_coef: 0.3354 - val_loss: 1.0483 - val_dice_coef: 0.3107\n",
            "Epoch 25/60\n",
            "169/169 [==============================] - 10s 62ms/step - loss: 0.9496 - dice_coef: 0.3394 - val_loss: 1.0438 - val_dice_coef: 0.3139\n",
            "Epoch 26/60\n",
            "169/169 [==============================] - 10s 62ms/step - loss: 0.9444 - dice_coef: 0.3430 - val_loss: 1.0399 - val_dice_coef: 0.3167\n",
            "Epoch 27/60\n",
            "169/169 [==============================] - 10s 61ms/step - loss: 0.9405 - dice_coef: 0.3463 - val_loss: 1.0366 - val_dice_coef: 0.3193\n",
            "Epoch 28/60\n",
            "169/169 [==============================] - 10s 61ms/step - loss: 0.9368 - dice_coef: 0.3490 - val_loss: 1.0338 - val_dice_coef: 0.3216\n",
            "Epoch 29/60\n",
            "169/169 [==============================] - 10s 61ms/step - loss: 0.9338 - dice_coef: 0.3519 - val_loss: 1.0314 - val_dice_coef: 0.3237\n",
            "Epoch 30/60\n",
            "169/169 [==============================] - 10s 61ms/step - loss: 0.9305 - dice_coef: 0.3544 - val_loss: 1.0292 - val_dice_coef: 0.3257\n",
            "Epoch 31/60\n",
            "169/169 [==============================] - 10s 61ms/step - loss: 0.9283 - dice_coef: 0.3566 - val_loss: 1.0273 - val_dice_coef: 0.3275\n",
            "Epoch 32/60\n",
            "169/169 [==============================] - 10s 61ms/step - loss: 0.9257 - dice_coef: 0.3586 - val_loss: 1.0259 - val_dice_coef: 0.3290\n",
            "Epoch 33/60\n",
            "169/169 [==============================] - 10s 61ms/step - loss: 0.9235 - dice_coef: 0.3605 - val_loss: 1.0245 - val_dice_coef: 0.3305\n",
            "Epoch 34/60\n",
            "169/169 [==============================] - 10s 61ms/step - loss: 0.9215 - dice_coef: 0.3623 - val_loss: 1.0233 - val_dice_coef: 0.3318\n",
            "Epoch 35/60\n",
            "169/169 [==============================] - 10s 61ms/step - loss: 0.9199 - dice_coef: 0.3639 - val_loss: 1.0222 - val_dice_coef: 0.3330\n",
            "Epoch 36/60\n",
            "169/169 [==============================] - 10s 61ms/step - loss: 0.9178 - dice_coef: 0.3653 - val_loss: 1.0214 - val_dice_coef: 0.3340\n",
            "Epoch 37/60\n",
            "169/169 [==============================] - 10s 61ms/step - loss: 0.9165 - dice_coef: 0.3669 - val_loss: 1.0205 - val_dice_coef: 0.3350\n",
            "Epoch 38/60\n",
            "169/169 [==============================] - 10s 62ms/step - loss: 0.9149 - dice_coef: 0.3682 - val_loss: 1.0198 - val_dice_coef: 0.3359\n",
            "Epoch 39/60\n",
            "169/169 [==============================] - 10s 61ms/step - loss: 0.9134 - dice_coef: 0.3693 - val_loss: 1.0190 - val_dice_coef: 0.3367\n",
            "Epoch 40/60\n",
            "169/169 [==============================] - 10s 61ms/step - loss: 0.9122 - dice_coef: 0.3706 - val_loss: 1.0184 - val_dice_coef: 0.3375\n",
            "Epoch 41/60\n",
            "169/169 [==============================] - 10s 61ms/step - loss: 0.9106 - dice_coef: 0.3716 - val_loss: 1.0179 - val_dice_coef: 0.3382\n",
            "Epoch 42/60\n",
            "169/169 [==============================] - 10s 62ms/step - loss: 0.9090 - dice_coef: 0.3728 - val_loss: 1.0173 - val_dice_coef: 0.3389\n",
            "Epoch 43/60\n",
            "169/169 [==============================] - 10s 61ms/step - loss: 0.9077 - dice_coef: 0.3738 - val_loss: 1.0168 - val_dice_coef: 0.3394\n",
            "Epoch 44/60\n",
            "169/169 [==============================] - 10s 62ms/step - loss: 0.9064 - dice_coef: 0.3747 - val_loss: 1.0164 - val_dice_coef: 0.3400\n",
            "Epoch 45/60\n",
            "169/169 [==============================] - 10s 61ms/step - loss: 0.9048 - dice_coef: 0.3758 - val_loss: 1.0159 - val_dice_coef: 0.3404\n",
            "Epoch 46/60\n",
            "169/169 [==============================] - 10s 61ms/step - loss: 0.9034 - dice_coef: 0.3767 - val_loss: 1.0156 - val_dice_coef: 0.3409\n",
            "Epoch 47/60\n",
            "169/169 [==============================] - 10s 62ms/step - loss: 0.9021 - dice_coef: 0.3775 - val_loss: 1.0152 - val_dice_coef: 0.3412\n",
            "Epoch 48/60\n",
            "169/169 [==============================] - 10s 62ms/step - loss: 0.9006 - dice_coef: 0.3785 - val_loss: 1.0148 - val_dice_coef: 0.3416\n",
            "Epoch 49/60\n",
            "169/169 [==============================] - 10s 62ms/step - loss: 0.8990 - dice_coef: 0.3793 - val_loss: 1.0144 - val_dice_coef: 0.3419\n",
            "Epoch 50/60\n",
            "169/169 [==============================] - 10s 62ms/step - loss: 0.8975 - dice_coef: 0.3803 - val_loss: 1.0142 - val_dice_coef: 0.3421\n",
            "Epoch 51/60\n",
            "169/169 [==============================] - 10s 61ms/step - loss: 0.8961 - dice_coef: 0.3813 - val_loss: 1.0138 - val_dice_coef: 0.3425\n",
            "Epoch 52/60\n",
            "169/169 [==============================] - 10s 61ms/step - loss: 0.8947 - dice_coef: 0.3820 - val_loss: 1.0135 - val_dice_coef: 0.3427\n",
            "Epoch 53/60\n",
            "169/169 [==============================] - 10s 62ms/step - loss: 0.8927 - dice_coef: 0.3830 - val_loss: 1.0133 - val_dice_coef: 0.3429\n",
            "Epoch 54/60\n",
            "169/169 [==============================] - 11s 62ms/step - loss: 0.8915 - dice_coef: 0.3837 - val_loss: 1.0129 - val_dice_coef: 0.3430\n",
            "Epoch 55/60\n",
            "169/169 [==============================] - 10s 62ms/step - loss: 0.8899 - dice_coef: 0.3844 - val_loss: 1.0126 - val_dice_coef: 0.3432\n",
            "Epoch 56/60\n",
            "169/169 [==============================] - 10s 62ms/step - loss: 0.8885 - dice_coef: 0.3852 - val_loss: 1.0124 - val_dice_coef: 0.3433\n",
            "Epoch 57/60\n",
            "169/169 [==============================] - 10s 62ms/step - loss: 0.8865 - dice_coef: 0.3858 - val_loss: 1.0122 - val_dice_coef: 0.3433\n",
            "Epoch 58/60\n",
            "169/169 [==============================] - 10s 62ms/step - loss: 0.8851 - dice_coef: 0.3869 - val_loss: 1.0120 - val_dice_coef: 0.3434\n",
            "Epoch 59/60\n",
            "169/169 [==============================] - 10s 62ms/step - loss: 0.8834 - dice_coef: 0.3876 - val_loss: 1.0116 - val_dice_coef: 0.3434\n",
            "Epoch 60/60\n",
            "169/169 [==============================] - 10s 62ms/step - loss: 0.8822 - dice_coef: 0.3883 - val_loss: 1.0114 - val_dice_coef: 0.3434\n"
          ],
          "name": "stdout"
        }
      ]
    },
    {
      "cell_type": "code",
      "metadata": {
        "colab": {
          "base_uri": "https://localhost:8080/"
        },
        "cellView": "form",
        "id": "2UICvijsGco9",
        "outputId": "bb71ff4d-88af-4a26-8de2-d77fcc57be72"
      },
      "source": [
        "#@title Результаты обучения: Качество модели\n",
        "\n",
        "recognizeSet(yTest, model_PSPnet.predict(xTest), tags, xLen, 0.999)"
      ],
      "execution_count": 18,
      "outputs": [
        {
          "output_type": "stream",
          "text": [
            "Сеть распознала категорию 'S1' на 68.71%\n",
            "Сеть распознала категорию 'S2' на 98.05%\n",
            "Сеть распознала категорию 'S3' на 87.71%\n",
            "Сеть распознала категорию 'S4' на 87.39%\n",
            "Сеть распознала категорию 'S5' на 92.45%\n",
            "Сеть распознала категорию 'S6' на 99.95%\n",
            "Cредняя точность 89.04402943586142%\n"
          ],
          "name": "stdout"
        }
      ]
    },
    {
      "cell_type": "markdown",
      "metadata": {
        "id": "PiVDjHcVCbUm"
      },
      "source": [
        "### НС UNet+Embedding"
      ]
    },
    {
      "cell_type": "code",
      "metadata": {
        "cellView": "form",
        "id": "OoAk3YcOHl9y"
      },
      "source": [
        "#@title Функция создания НС\n",
        "\n",
        "def create_unet_emb(xLen, embeddingSize = 10, k = 1, num_classes = 6):\n",
        "\n",
        "    def Conv1DTranspose(input_tensor, filters, kernel_size=1, strides=2, padding='same'):\n",
        "        \"\"\"\n",
        "        input_tensor: входной тензор (batch_size, time_steps, dims)\n",
        "        filters: int, output dimension, выходной тензор будет иметь размер (batch_size, time_steps, filters)\n",
        "        kernel_size: размер ядра свертки \n",
        "        strides: int, шаг ядра\n",
        "        padding: 'same' | действительный\n",
        "        \"\"\"\n",
        "        x = Lambda(lambda x: K.expand_dims(x, axis=2))(input_tensor)\n",
        "        x = Conv2DTranspose(filters=filters, kernel_size=(kernel_size, 1), strides=(strides, 1), padding=padding)(x)\n",
        "        x = Lambda(lambda x: K.squeeze(x, axis=2))(x)\n",
        "        return x\n",
        "        \n",
        "    img_input = Input(xLen) \n",
        "\n",
        "    # Block 1\n",
        "    x = Embedding(len(decoded_text), embeddingSize, input_length=xLen)(img_input)\n",
        "\n",
        "    x_input = x\n",
        "\n",
        "    x = Conv1D(64 * k , 3, padding='same')(x) \n",
        "    x = BatchNormalization()(x) \n",
        "    x = Activation('relu')(x)\n",
        "\n",
        "    x = Conv1D(64 * k , 3, padding='same')(x)  \n",
        "    x = BatchNormalization()(x)     \n",
        "    block_1_out = Activation('relu')(x) \n",
        "\n",
        "    x = MaxPooling1D()(block_1_out)\n",
        "\n",
        "    # Block 2\n",
        "    x = Conv1D(128 * k , 3, padding='same')(x)\n",
        "    x = BatchNormalization()(x)\n",
        "    x = Activation('relu')(x)  \n",
        "\n",
        "    x = Conv1D(128 * k , 3, padding='same')(x)\n",
        "    x = BatchNormalization()(x)\n",
        "    block_2_out = Activation('relu')(x)\n",
        "\n",
        "    x = MaxPooling1D()(block_2_out)\n",
        "\n",
        "    # Block 3\n",
        "    x = Conv1D(256 * k , 3, padding='same')(x)\n",
        "    x = BatchNormalization()(x)               \n",
        "    x = Activation('relu')(x)                     \n",
        "\n",
        "    x = Conv1D(256 * k , 3, padding='same')(x)\n",
        "    x = BatchNormalization()(x)\n",
        "    x = Activation('relu')(x)\n",
        "\n",
        "    x = Conv1D(256 * k , 3, padding='same')(x)\n",
        "    x = BatchNormalization()(x)\n",
        "    block_3_out = Activation('relu')(x)\n",
        "\n",
        "    # x = block_3_out\n",
        "    x = MaxPooling1D()(block_3_out)\n",
        "\n",
        "    # Block 4\n",
        "    x = Conv1D(512 * k , 3, padding='same')(x)\n",
        "    x = BatchNormalization()(x) \n",
        "    x = Activation('relu')(x)\n",
        "\n",
        "    x = Conv1D(512 * k , 3, padding='same')(x)\n",
        "    x = BatchNormalization()(x)\n",
        "    x = Activation('relu')(x)\n",
        "\n",
        "    x = Conv1D(512 * k , 3, padding='same')(x)\n",
        "    x = BatchNormalization()(x)      \n",
        "    block_4_out = Activation('relu')(x)\n",
        "    x = block_4_out \n",
        "\n",
        "    # UP 2\n",
        "    x = Conv1DTranspose(x, 256, kernel_size=2, strides=2, padding='same')\n",
        "    x = BatchNormalization()(x)\n",
        "    x = Activation('relu')(x) \n",
        "\n",
        "    x = concatenate([x, block_3_out]) \n",
        "    x = Conv1D(256 * k , 3, padding='same')(x) \n",
        "    x = BatchNormalization()(x) \n",
        "    x = Activation('relu')(x)\n",
        "\n",
        "    x = Conv1D(256 * k , 3, padding='same')(x)\n",
        "    x = BatchNormalization()(x)\n",
        "    x = Activation('relu')(x)\n",
        "    \n",
        "    # UP 3\n",
        "    x = Conv1DTranspose(x, 128, kernel_size=2, strides=2, padding='same')\n",
        "    x = BatchNormalization()(x)\n",
        "    x = Activation('relu')(x) \n",
        "\n",
        "    x = concatenate([x, block_2_out])\n",
        "    x = Conv1D(128 * k , 3, padding='same')(x)\n",
        "    x = BatchNormalization()(x)\n",
        "    x = Activation('relu')(x)\n",
        "\n",
        "    x = Conv1D(128 * k , 3, padding='same')(x)\n",
        "    x = BatchNormalization()(x)\n",
        "    x = Activation('relu')(x)\n",
        "\n",
        "    # UP 4\n",
        "    x = Conv1DTranspose(x, 64, kernel_size=2, strides=2, padding='same')\n",
        "    x = BatchNormalization()(x)\n",
        "    x = Activation('relu')(x)\n",
        "\n",
        "    x = concatenate([x, block_1_out])\n",
        "    x = Conv1D(64 * k , 3, padding='same')(x)\n",
        "    x = BatchNormalization()(x)\n",
        "    x = Activation('relu')(x)\n",
        "\n",
        "    x = Conv1D(64 * k , 3, padding='same')(x)\n",
        "    x = BatchNormalization()(x)\n",
        "    x = Activation('relu')(x)\n",
        "\n",
        "    x = Conv1D(num_classes, 3, activation='sigmoid', padding='same')(x)\n",
        "\n",
        "    model = Model(img_input, x) \n",
        "\n",
        "    model = Model(img_input, x)\n",
        "    model.compile(optimizer=Adam(0.0025), \n",
        "                  loss='categorical_crossentropy',\n",
        "                  metrics=[dice_coef])\n",
        "  \n",
        "    return model\n"
      ],
      "execution_count": 19,
      "outputs": []
    },
    {
      "cell_type": "code",
      "metadata": {
        "colab": {
          "base_uri": "https://localhost:8080/"
        },
        "cellView": "form",
        "id": "Ui9ESWprHtSh",
        "outputId": "0ebc8894-9e9d-43be-e86c-5256ebcfa8a5"
      },
      "source": [
        "#@title Создание сети, вывод информации\n",
        "\n",
        "model_UNet = create_unet_emb(xLen)\n",
        "model_UNet.summary()"
      ],
      "execution_count": 20,
      "outputs": [
        {
          "output_type": "stream",
          "text": [
            "Model: \"functional_7\"\n",
            "__________________________________________________________________________________________________\n",
            "Layer (type)                    Output Shape         Param #     Connected to                     \n",
            "==================================================================================================\n",
            "input_4 (InputLayer)            [(None, 256)]        0                                            \n",
            "__________________________________________________________________________________________________\n",
            "embedding_3 (Embedding)         (None, 256, 10)      4049990     input_4[0][0]                    \n",
            "__________________________________________________________________________________________________\n",
            "conv1d_17 (Conv1D)              (None, 256, 64)      1984        embedding_3[0][0]                \n",
            "__________________________________________________________________________________________________\n",
            "batch_normalization_4 (BatchNor (None, 256, 64)      256         conv1d_17[0][0]                  \n",
            "__________________________________________________________________________________________________\n",
            "activation_9 (Activation)       (None, 256, 64)      0           batch_normalization_4[0][0]      \n",
            "__________________________________________________________________________________________________\n",
            "conv1d_18 (Conv1D)              (None, 256, 64)      12352       activation_9[0][0]               \n",
            "__________________________________________________________________________________________________\n",
            "batch_normalization_5 (BatchNor (None, 256, 64)      256         conv1d_18[0][0]                  \n",
            "__________________________________________________________________________________________________\n",
            "activation_10 (Activation)      (None, 256, 64)      0           batch_normalization_5[0][0]      \n",
            "__________________________________________________________________________________________________\n",
            "max_pooling1d_5 (MaxPooling1D)  (None, 128, 64)      0           activation_10[0][0]              \n",
            "__________________________________________________________________________________________________\n",
            "conv1d_19 (Conv1D)              (None, 128, 128)     24704       max_pooling1d_5[0][0]            \n",
            "__________________________________________________________________________________________________\n",
            "batch_normalization_6 (BatchNor (None, 128, 128)     512         conv1d_19[0][0]                  \n",
            "__________________________________________________________________________________________________\n",
            "activation_11 (Activation)      (None, 128, 128)     0           batch_normalization_6[0][0]      \n",
            "__________________________________________________________________________________________________\n",
            "conv1d_20 (Conv1D)              (None, 128, 128)     49280       activation_11[0][0]              \n",
            "__________________________________________________________________________________________________\n",
            "batch_normalization_7 (BatchNor (None, 128, 128)     512         conv1d_20[0][0]                  \n",
            "__________________________________________________________________________________________________\n",
            "activation_12 (Activation)      (None, 128, 128)     0           batch_normalization_7[0][0]      \n",
            "__________________________________________________________________________________________________\n",
            "max_pooling1d_6 (MaxPooling1D)  (None, 64, 128)      0           activation_12[0][0]              \n",
            "__________________________________________________________________________________________________\n",
            "conv1d_21 (Conv1D)              (None, 64, 256)      98560       max_pooling1d_6[0][0]            \n",
            "__________________________________________________________________________________________________\n",
            "batch_normalization_8 (BatchNor (None, 64, 256)      1024        conv1d_21[0][0]                  \n",
            "__________________________________________________________________________________________________\n",
            "activation_13 (Activation)      (None, 64, 256)      0           batch_normalization_8[0][0]      \n",
            "__________________________________________________________________________________________________\n",
            "conv1d_22 (Conv1D)              (None, 64, 256)      196864      activation_13[0][0]              \n",
            "__________________________________________________________________________________________________\n",
            "batch_normalization_9 (BatchNor (None, 64, 256)      1024        conv1d_22[0][0]                  \n",
            "__________________________________________________________________________________________________\n",
            "activation_14 (Activation)      (None, 64, 256)      0           batch_normalization_9[0][0]      \n",
            "__________________________________________________________________________________________________\n",
            "conv1d_23 (Conv1D)              (None, 64, 256)      196864      activation_14[0][0]              \n",
            "__________________________________________________________________________________________________\n",
            "batch_normalization_10 (BatchNo (None, 64, 256)      1024        conv1d_23[0][0]                  \n",
            "__________________________________________________________________________________________________\n",
            "activation_15 (Activation)      (None, 64, 256)      0           batch_normalization_10[0][0]     \n",
            "__________________________________________________________________________________________________\n",
            "max_pooling1d_7 (MaxPooling1D)  (None, 32, 256)      0           activation_15[0][0]              \n",
            "__________________________________________________________________________________________________\n",
            "conv1d_24 (Conv1D)              (None, 32, 512)      393728      max_pooling1d_7[0][0]            \n",
            "__________________________________________________________________________________________________\n",
            "batch_normalization_11 (BatchNo (None, 32, 512)      2048        conv1d_24[0][0]                  \n",
            "__________________________________________________________________________________________________\n",
            "activation_16 (Activation)      (None, 32, 512)      0           batch_normalization_11[0][0]     \n",
            "__________________________________________________________________________________________________\n",
            "conv1d_25 (Conv1D)              (None, 32, 512)      786944      activation_16[0][0]              \n",
            "__________________________________________________________________________________________________\n",
            "batch_normalization_12 (BatchNo (None, 32, 512)      2048        conv1d_25[0][0]                  \n",
            "__________________________________________________________________________________________________\n",
            "activation_17 (Activation)      (None, 32, 512)      0           batch_normalization_12[0][0]     \n",
            "__________________________________________________________________________________________________\n",
            "conv1d_26 (Conv1D)              (None, 32, 512)      786944      activation_17[0][0]              \n",
            "__________________________________________________________________________________________________\n",
            "batch_normalization_13 (BatchNo (None, 32, 512)      2048        conv1d_26[0][0]                  \n",
            "__________________________________________________________________________________________________\n",
            "activation_18 (Activation)      (None, 32, 512)      0           batch_normalization_13[0][0]     \n",
            "__________________________________________________________________________________________________\n",
            "lambda_10 (Lambda)              (None, 32, 1, 512)   0           activation_18[0][0]              \n",
            "__________________________________________________________________________________________________\n",
            "conv2d_transpose_5 (Conv2DTrans (None, 64, 1, 256)   262400      lambda_10[0][0]                  \n",
            "__________________________________________________________________________________________________\n",
            "lambda_11 (Lambda)              (None, 64, 256)      0           conv2d_transpose_5[0][0]         \n",
            "__________________________________________________________________________________________________\n",
            "batch_normalization_14 (BatchNo (None, 64, 256)      1024        lambda_11[0][0]                  \n",
            "__________________________________________________________________________________________________\n",
            "activation_19 (Activation)      (None, 64, 256)      0           batch_normalization_14[0][0]     \n",
            "__________________________________________________________________________________________________\n",
            "concatenate_1 (Concatenate)     (None, 64, 512)      0           activation_19[0][0]              \n",
            "                                                                 activation_15[0][0]              \n",
            "__________________________________________________________________________________________________\n",
            "conv1d_27 (Conv1D)              (None, 64, 256)      393472      concatenate_1[0][0]              \n",
            "__________________________________________________________________________________________________\n",
            "batch_normalization_15 (BatchNo (None, 64, 256)      1024        conv1d_27[0][0]                  \n",
            "__________________________________________________________________________________________________\n",
            "activation_20 (Activation)      (None, 64, 256)      0           batch_normalization_15[0][0]     \n",
            "__________________________________________________________________________________________________\n",
            "conv1d_28 (Conv1D)              (None, 64, 256)      196864      activation_20[0][0]              \n",
            "__________________________________________________________________________________________________\n",
            "batch_normalization_16 (BatchNo (None, 64, 256)      1024        conv1d_28[0][0]                  \n",
            "__________________________________________________________________________________________________\n",
            "activation_21 (Activation)      (None, 64, 256)      0           batch_normalization_16[0][0]     \n",
            "__________________________________________________________________________________________________\n",
            "lambda_12 (Lambda)              (None, 64, 1, 256)   0           activation_21[0][0]              \n",
            "__________________________________________________________________________________________________\n",
            "conv2d_transpose_6 (Conv2DTrans (None, 128, 1, 128)  65664       lambda_12[0][0]                  \n",
            "__________________________________________________________________________________________________\n",
            "lambda_13 (Lambda)              (None, 128, 128)     0           conv2d_transpose_6[0][0]         \n",
            "__________________________________________________________________________________________________\n",
            "batch_normalization_17 (BatchNo (None, 128, 128)     512         lambda_13[0][0]                  \n",
            "__________________________________________________________________________________________________\n",
            "activation_22 (Activation)      (None, 128, 128)     0           batch_normalization_17[0][0]     \n",
            "__________________________________________________________________________________________________\n",
            "concatenate_2 (Concatenate)     (None, 128, 256)     0           activation_22[0][0]              \n",
            "                                                                 activation_12[0][0]              \n",
            "__________________________________________________________________________________________________\n",
            "conv1d_29 (Conv1D)              (None, 128, 128)     98432       concatenate_2[0][0]              \n",
            "__________________________________________________________________________________________________\n",
            "batch_normalization_18 (BatchNo (None, 128, 128)     512         conv1d_29[0][0]                  \n",
            "__________________________________________________________________________________________________\n",
            "activation_23 (Activation)      (None, 128, 128)     0           batch_normalization_18[0][0]     \n",
            "__________________________________________________________________________________________________\n",
            "conv1d_30 (Conv1D)              (None, 128, 128)     49280       activation_23[0][0]              \n",
            "__________________________________________________________________________________________________\n",
            "batch_normalization_19 (BatchNo (None, 128, 128)     512         conv1d_30[0][0]                  \n",
            "__________________________________________________________________________________________________\n",
            "activation_24 (Activation)      (None, 128, 128)     0           batch_normalization_19[0][0]     \n",
            "__________________________________________________________________________________________________\n",
            "lambda_14 (Lambda)              (None, 128, 1, 128)  0           activation_24[0][0]              \n",
            "__________________________________________________________________________________________________\n",
            "conv2d_transpose_7 (Conv2DTrans (None, 256, 1, 64)   16448       lambda_14[0][0]                  \n",
            "__________________________________________________________________________________________________\n",
            "lambda_15 (Lambda)              (None, 256, 64)      0           conv2d_transpose_7[0][0]         \n",
            "__________________________________________________________________________________________________\n",
            "batch_normalization_20 (BatchNo (None, 256, 64)      256         lambda_15[0][0]                  \n",
            "__________________________________________________________________________________________________\n",
            "activation_25 (Activation)      (None, 256, 64)      0           batch_normalization_20[0][0]     \n",
            "__________________________________________________________________________________________________\n",
            "concatenate_3 (Concatenate)     (None, 256, 128)     0           activation_25[0][0]              \n",
            "                                                                 activation_10[0][0]              \n",
            "__________________________________________________________________________________________________\n",
            "conv1d_31 (Conv1D)              (None, 256, 64)      24640       concatenate_3[0][0]              \n",
            "__________________________________________________________________________________________________\n",
            "batch_normalization_21 (BatchNo (None, 256, 64)      256         conv1d_31[0][0]                  \n",
            "__________________________________________________________________________________________________\n",
            "activation_26 (Activation)      (None, 256, 64)      0           batch_normalization_21[0][0]     \n",
            "__________________________________________________________________________________________________\n",
            "conv1d_32 (Conv1D)              (None, 256, 64)      12352       activation_26[0][0]              \n",
            "__________________________________________________________________________________________________\n",
            "batch_normalization_22 (BatchNo (None, 256, 64)      256         conv1d_32[0][0]                  \n",
            "__________________________________________________________________________________________________\n",
            "activation_27 (Activation)      (None, 256, 64)      0           batch_normalization_22[0][0]     \n",
            "__________________________________________________________________________________________________\n",
            "conv1d_33 (Conv1D)              (None, 256, 6)       1158        activation_27[0][0]              \n",
            "==================================================================================================\n",
            "Total params: 7,735,052\n",
            "Trainable params: 7,726,988\n",
            "Non-trainable params: 8,064\n",
            "__________________________________________________________________________________________________\n"
          ],
          "name": "stdout"
        }
      ]
    },
    {
      "cell_type": "code",
      "metadata": {
        "colab": {
          "base_uri": "https://localhost:8080/"
        },
        "cellView": "form",
        "id": "3aMnv1IAHwic",
        "outputId": "8b331b74-4430-4051-b329-8386dc12c428"
      },
      "source": [
        "#@title Обучение НС\n",
        "\n",
        "history_UNet = model_UNet.fit(xTrain, yTrain, epochs=20, batch_size=64, validation_split = 0.2) "
      ],
      "execution_count": 21,
      "outputs": [
        {
          "output_type": "stream",
          "text": [
            "Epoch 1/20\n",
            "169/169 [==============================] - 10s 58ms/step - loss: 0.6000 - dice_coef: 0.5048 - val_loss: 7.6931 - val_dice_coef: 0.1683\n",
            "Epoch 2/20\n",
            "169/169 [==============================] - 9s 53ms/step - loss: 0.3546 - dice_coef: 0.6305 - val_loss: 7.9154 - val_dice_coef: 0.1084\n",
            "Epoch 3/20\n",
            "169/169 [==============================] - 9s 53ms/step - loss: 0.2933 - dice_coef: 0.6711 - val_loss: 5.3996 - val_dice_coef: 0.1671\n",
            "Epoch 4/20\n",
            "169/169 [==============================] - 9s 53ms/step - loss: 0.2600 - dice_coef: 0.6986 - val_loss: 2.2070 - val_dice_coef: 0.3701\n",
            "Epoch 5/20\n",
            "169/169 [==============================] - 9s 53ms/step - loss: 0.2504 - dice_coef: 0.7095 - val_loss: 1.5232 - val_dice_coef: 0.4812\n",
            "Epoch 6/20\n",
            "169/169 [==============================] - 9s 53ms/step - loss: 0.2422 - dice_coef: 0.7223 - val_loss: 1.1040 - val_dice_coef: 0.4939\n",
            "Epoch 7/20\n",
            "169/169 [==============================] - 9s 54ms/step - loss: 0.2324 - dice_coef: 0.7328 - val_loss: 1.3773 - val_dice_coef: 0.5153\n",
            "Epoch 8/20\n",
            "169/169 [==============================] - 9s 53ms/step - loss: 0.2343 - dice_coef: 0.7352 - val_loss: 1.8919 - val_dice_coef: 0.4667\n",
            "Epoch 9/20\n",
            "169/169 [==============================] - 9s 53ms/step - loss: 0.2272 - dice_coef: 0.7410 - val_loss: 1.6713 - val_dice_coef: 0.4693\n",
            "Epoch 10/20\n",
            "169/169 [==============================] - 9s 53ms/step - loss: 0.2269 - dice_coef: 0.7396 - val_loss: 1.4230 - val_dice_coef: 0.4925\n",
            "Epoch 11/20\n",
            "169/169 [==============================] - 9s 53ms/step - loss: 0.2241 - dice_coef: 0.7450 - val_loss: 1.7600 - val_dice_coef: 0.5096\n",
            "Epoch 12/20\n",
            "169/169 [==============================] - 9s 53ms/step - loss: 0.2232 - dice_coef: 0.7481 - val_loss: 1.7904 - val_dice_coef: 0.4761\n",
            "Epoch 13/20\n",
            "169/169 [==============================] - 9s 55ms/step - loss: 0.2183 - dice_coef: 0.7534 - val_loss: 1.6111 - val_dice_coef: 0.5045\n",
            "Epoch 14/20\n",
            "169/169 [==============================] - 9s 54ms/step - loss: 0.2181 - dice_coef: 0.7523 - val_loss: 2.1242 - val_dice_coef: 0.4863\n",
            "Epoch 15/20\n",
            "169/169 [==============================] - 9s 53ms/step - loss: 0.2201 - dice_coef: 0.7453 - val_loss: 1.7943 - val_dice_coef: 0.5146\n",
            "Epoch 16/20\n",
            "169/169 [==============================] - 9s 53ms/step - loss: 0.2123 - dice_coef: 0.7568 - val_loss: 1.4929 - val_dice_coef: 0.5068\n",
            "Epoch 17/20\n",
            "169/169 [==============================] - 9s 53ms/step - loss: 0.2086 - dice_coef: 0.7640 - val_loss: 2.0232 - val_dice_coef: 0.5343\n",
            "Epoch 18/20\n",
            "169/169 [==============================] - 9s 53ms/step - loss: 0.2133 - dice_coef: 0.7621 - val_loss: 1.9486 - val_dice_coef: 0.4466\n",
            "Epoch 19/20\n",
            "169/169 [==============================] - 9s 54ms/step - loss: 0.2174 - dice_coef: 0.7536 - val_loss: 1.9347 - val_dice_coef: 0.5225\n",
            "Epoch 20/20\n",
            "169/169 [==============================] - 9s 53ms/step - loss: 0.2145 - dice_coef: 0.7552 - val_loss: 1.6495 - val_dice_coef: 0.5375\n"
          ],
          "name": "stdout"
        }
      ]
    },
    {
      "cell_type": "code",
      "metadata": {
        "colab": {
          "base_uri": "https://localhost:8080/"
        },
        "cellView": "form",
        "id": "OYblZIxnGfAC",
        "outputId": "23d70483-1518-4d37-ea8e-9b723c486b83"
      },
      "source": [
        "#@title Результаты обучения: Качество модели\n",
        "\n",
        "recognizeSet(yTest, model_UNet.predict(xTest), tags, xLen, 0.999)"
      ],
      "execution_count": 22,
      "outputs": [
        {
          "output_type": "stream",
          "text": [
            "Сеть распознала категорию 'S1' на 69.7%\n",
            "Сеть распознала категорию 'S2' на 98.06%\n",
            "Сеть распознала категорию 'S3' на 88.65%\n",
            "Сеть распознала категорию 'S4' на 87.97%\n",
            "Сеть распознала категорию 'S5' на 92.24%\n",
            "Сеть распознала категорию 'S6' на 99.95%\n",
            "Cредняя точность 89.42898525280897%\n"
          ],
          "name": "stdout"
        }
      ]
    },
    {
      "cell_type": "markdown",
      "metadata": {
        "id": "WhMLltp7SbVQ"
      },
      "source": [
        "### У НС UNet+Embedding меняем гиперпараметры: увеличиваем пространство Embedding-слоя"
      ]
    },
    {
      "cell_type": "code",
      "metadata": {
        "colab": {
          "base_uri": "https://localhost:8080/"
        },
        "cellView": "form",
        "id": "x8zjk5AoSgaz",
        "outputId": "ed3b8e63-4a11-4f67-ca05-55767a2470af"
      },
      "source": [
        "#@title Создание сети, обучение\n",
        "\n",
        "model_UNet_100 = create_unet_emb(xLen, embeddingSize=100)\n",
        "history_UNet_100 = model_UNet_100.fit(xTrain, yTrain, epochs=20, batch_size=64, validation_split = 0.2) "
      ],
      "execution_count": 23,
      "outputs": [
        {
          "output_type": "stream",
          "text": [
            "Epoch 1/20\n",
            "169/169 [==============================] - 40s 239ms/step - loss: 0.5110 - dice_coef: 0.5489 - val_loss: 3.9077 - val_dice_coef: 0.4112\n",
            "Epoch 2/20\n",
            "169/169 [==============================] - 40s 235ms/step - loss: 0.2946 - dice_coef: 0.6682 - val_loss: 2.1819 - val_dice_coef: 0.4626\n",
            "Epoch 3/20\n",
            "169/169 [==============================] - 40s 236ms/step - loss: 0.2557 - dice_coef: 0.6993 - val_loss: 1.3079 - val_dice_coef: 0.5177\n",
            "Epoch 4/20\n",
            "169/169 [==============================] - 40s 238ms/step - loss: 0.2462 - dice_coef: 0.7081 - val_loss: 1.2727 - val_dice_coef: 0.4996\n",
            "Epoch 5/20\n",
            "169/169 [==============================] - 40s 237ms/step - loss: 0.2375 - dice_coef: 0.7196 - val_loss: 2.9225 - val_dice_coef: 0.3379\n",
            "Epoch 6/20\n",
            "169/169 [==============================] - 40s 238ms/step - loss: 0.2287 - dice_coef: 0.7321 - val_loss: 1.4482 - val_dice_coef: 0.5259\n",
            "Epoch 7/20\n",
            "169/169 [==============================] - 40s 238ms/step - loss: 0.2198 - dice_coef: 0.7407 - val_loss: 2.0281 - val_dice_coef: 0.4781\n",
            "Epoch 8/20\n",
            "169/169 [==============================] - 40s 237ms/step - loss: 0.2270 - dice_coef: 0.7370 - val_loss: 2.2257 - val_dice_coef: 0.4425\n",
            "Epoch 9/20\n",
            "169/169 [==============================] - 40s 238ms/step - loss: 0.2205 - dice_coef: 0.7426 - val_loss: 1.6910 - val_dice_coef: 0.5219\n",
            "Epoch 10/20\n",
            "169/169 [==============================] - 40s 238ms/step - loss: 0.2153 - dice_coef: 0.7494 - val_loss: 1.9025 - val_dice_coef: 0.5136\n",
            "Epoch 11/20\n",
            "169/169 [==============================] - 40s 238ms/step - loss: 0.2159 - dice_coef: 0.7477 - val_loss: 1.8166 - val_dice_coef: 0.5278\n",
            "Epoch 12/20\n",
            "169/169 [==============================] - 40s 238ms/step - loss: 0.2215 - dice_coef: 0.7443 - val_loss: 2.0056 - val_dice_coef: 0.4849\n",
            "Epoch 13/20\n",
            "169/169 [==============================] - 40s 239ms/step - loss: 0.2126 - dice_coef: 0.7502 - val_loss: 1.4790 - val_dice_coef: 0.5246\n",
            "Epoch 14/20\n",
            "169/169 [==============================] - 40s 239ms/step - loss: 0.2141 - dice_coef: 0.7497 - val_loss: 1.9019 - val_dice_coef: 0.5467\n",
            "Epoch 15/20\n",
            "169/169 [==============================] - 40s 238ms/step - loss: 0.2047 - dice_coef: 0.7630 - val_loss: 1.9262 - val_dice_coef: 0.5425\n",
            "Epoch 16/20\n",
            "169/169 [==============================] - 40s 237ms/step - loss: 0.2053 - dice_coef: 0.7635 - val_loss: 2.1778 - val_dice_coef: 0.5360\n",
            "Epoch 17/20\n",
            "169/169 [==============================] - 40s 237ms/step - loss: 0.2136 - dice_coef: 0.7552 - val_loss: 1.8975 - val_dice_coef: 0.4788\n",
            "Epoch 18/20\n",
            "169/169 [==============================] - 40s 238ms/step - loss: 0.2168 - dice_coef: 0.7443 - val_loss: 2.6961 - val_dice_coef: 0.4673\n",
            "Epoch 19/20\n",
            "169/169 [==============================] - 40s 239ms/step - loss: 0.2074 - dice_coef: 0.7574 - val_loss: 1.7044 - val_dice_coef: 0.5269\n",
            "Epoch 20/20\n",
            "169/169 [==============================] - 40s 239ms/step - loss: 0.2060 - dice_coef: 0.7578 - val_loss: 2.1559 - val_dice_coef: 0.5332\n"
          ],
          "name": "stdout"
        }
      ]
    },
    {
      "cell_type": "code",
      "metadata": {
        "colab": {
          "base_uri": "https://localhost:8080/"
        },
        "cellView": "form",
        "id": "UBV06y9OGgkp",
        "outputId": "1551842f-2875-49cb-c38d-443252cf63c3"
      },
      "source": [
        "#@title Результаты обучения: Качество модели\n",
        "\n",
        "recognizeSet(yTest, model_UNet_100.predict(xTest), tags, xLen, 0.999)"
      ],
      "execution_count": 25,
      "outputs": [
        {
          "output_type": "stream",
          "text": [
            "Сеть распознала категорию 'S1' на 68.86%\n",
            "Сеть распознала категорию 'S2' на 98.06%\n",
            "Сеть распознала категорию 'S3' на 87.65%\n",
            "Сеть распознала категорию 'S4' на 88.01%\n",
            "Сеть распознала категорию 'S5' на 92.45%\n",
            "Сеть распознала категорию 'S6' на 99.86%\n",
            "Cредняя точность 89.14863500702246%\n"
          ],
          "name": "stdout"
        }
      ]
    },
    {
      "cell_type": "markdown",
      "metadata": {
        "id": "LbsMFcp0L1jM"
      },
      "source": [
        "### У НС UNet+Embedding меняем гиперпараметры: увеличиваем пространство Embedding-слоя, увеличиваем число нейронов"
      ]
    },
    {
      "cell_type": "code",
      "metadata": {
        "colab": {
          "base_uri": "https://localhost:8080/"
        },
        "cellView": "form",
        "id": "NnXPzVDbTkUA",
        "outputId": "1a0c9b9f-9d20-4c8b-8083-d5b7a0a3734d"
      },
      "source": [
        "#@title Создание сети, обучение\n",
        "\n",
        "model_UNet_100_2 = create_unet_emb(xLen, embeddingSize=100, k=2)\n",
        "history_UNet_100_2 = model_UNet_100_2.fit(xTrain, yTrain, epochs=20, batch_size=64, validation_split = 0.2)"
      ],
      "execution_count": 27,
      "outputs": [
        {
          "output_type": "stream",
          "text": [
            "Epoch 1/20\n",
            "169/169 [==============================] - 42s 250ms/step - loss: 0.4766 - dice_coef: 0.5707 - val_loss: 7.7332 - val_dice_coef: 0.1042\n",
            "Epoch 2/20\n",
            "169/169 [==============================] - 41s 241ms/step - loss: 0.2809 - dice_coef: 0.6835 - val_loss: 5.5307 - val_dice_coef: 0.1674\n",
            "Epoch 3/20\n",
            "169/169 [==============================] - 41s 242ms/step - loss: 0.2508 - dice_coef: 0.7115 - val_loss: 1.8309 - val_dice_coef: 0.4219\n",
            "Epoch 4/20\n",
            "169/169 [==============================] - 41s 243ms/step - loss: 0.2372 - dice_coef: 0.7249 - val_loss: 1.3630 - val_dice_coef: 0.5195\n",
            "Epoch 5/20\n",
            "169/169 [==============================] - 41s 244ms/step - loss: 0.2252 - dice_coef: 0.7418 - val_loss: 2.0417 - val_dice_coef: 0.5310\n",
            "Epoch 6/20\n",
            "169/169 [==============================] - 41s 243ms/step - loss: 0.2192 - dice_coef: 0.7476 - val_loss: 2.8481 - val_dice_coef: 0.3376\n",
            "Epoch 7/20\n",
            "169/169 [==============================] - 41s 243ms/step - loss: 0.2354 - dice_coef: 0.7323 - val_loss: 1.4662 - val_dice_coef: 0.5574\n",
            "Epoch 8/20\n",
            "169/169 [==============================] - 41s 243ms/step - loss: 0.2183 - dice_coef: 0.7419 - val_loss: 1.9398 - val_dice_coef: 0.5113\n",
            "Epoch 9/20\n",
            "169/169 [==============================] - 41s 243ms/step - loss: 0.2105 - dice_coef: 0.7549 - val_loss: 1.9459 - val_dice_coef: 0.4630\n",
            "Epoch 10/20\n",
            "169/169 [==============================] - 41s 242ms/step - loss: 0.2111 - dice_coef: 0.7564 - val_loss: 2.0034 - val_dice_coef: 0.5439\n",
            "Epoch 11/20\n",
            "169/169 [==============================] - 41s 244ms/step - loss: 0.2072 - dice_coef: 0.7611 - val_loss: 1.8818 - val_dice_coef: 0.5281\n",
            "Epoch 12/20\n",
            "169/169 [==============================] - 41s 243ms/step - loss: 0.2102 - dice_coef: 0.7559 - val_loss: 1.7713 - val_dice_coef: 0.5286\n",
            "Epoch 13/20\n",
            "169/169 [==============================] - 41s 243ms/step - loss: 0.2160 - dice_coef: 0.7535 - val_loss: 1.8905 - val_dice_coef: 0.5162\n",
            "Epoch 14/20\n",
            "169/169 [==============================] - 41s 243ms/step - loss: 0.2101 - dice_coef: 0.7595 - val_loss: 2.6315 - val_dice_coef: 0.5233\n",
            "Epoch 15/20\n",
            "169/169 [==============================] - 41s 243ms/step - loss: 0.2046 - dice_coef: 0.7626 - val_loss: 1.8995 - val_dice_coef: 0.5416\n",
            "Epoch 16/20\n",
            "169/169 [==============================] - 41s 243ms/step - loss: 0.2055 - dice_coef: 0.7625 - val_loss: 2.0622 - val_dice_coef: 0.5133\n",
            "Epoch 17/20\n",
            "169/169 [==============================] - 41s 244ms/step - loss: 0.2095 - dice_coef: 0.7624 - val_loss: 1.6741 - val_dice_coef: 0.5067\n",
            "Epoch 18/20\n",
            "169/169 [==============================] - 41s 243ms/step - loss: 0.2161 - dice_coef: 0.7555 - val_loss: 2.1238 - val_dice_coef: 0.5465\n",
            "Epoch 19/20\n",
            "169/169 [==============================] - 41s 242ms/step - loss: 0.2013 - dice_coef: 0.7753 - val_loss: 2.3252 - val_dice_coef: 0.5469\n",
            "Epoch 20/20\n",
            "169/169 [==============================] - 41s 244ms/step - loss: 0.1994 - dice_coef: 0.7803 - val_loss: 2.3313 - val_dice_coef: 0.5515\n"
          ],
          "name": "stdout"
        }
      ]
    },
    {
      "cell_type": "code",
      "metadata": {
        "colab": {
          "base_uri": "https://localhost:8080/"
        },
        "cellView": "form",
        "id": "C2v4Xb_7GhxZ",
        "outputId": "dd883496-3a51-41e4-ebd7-23fe9cb99dfc"
      },
      "source": [
        "#@title Результаты обучения: Качество модели\n",
        "\n",
        "recognizeSet(yTest, model_UNet_100_2.predict(xTest), tags, xLen, 0.999)"
      ],
      "execution_count": 29,
      "outputs": [
        {
          "output_type": "stream",
          "text": [
            "Сеть распознала категорию 'S1' на 63.26%\n",
            "Сеть распознала категорию 'S2' на 98.05%\n",
            "Сеть распознала категорию 'S3' на 89.14%\n",
            "Сеть распознала категорию 'S4' на 88.0%\n",
            "Сеть распознала категорию 'S5' на 92.54%\n",
            "Сеть распознала категорию 'S6' на 99.93%\n",
            "Cредняя точность 88.48808374297754%\n"
          ],
          "name": "stdout"
        }
      ]
    },
    {
      "cell_type": "markdown",
      "metadata": {
        "id": "x3UMp2LugLOf"
      },
      "source": [
        "### НС Unet, как в шаге выше, но с модифицированной функцией метрики dice_coef"
      ]
    },
    {
      "cell_type": "code",
      "metadata": {
        "cellView": "form",
        "id": "SZ6noB8FgJ-7"
      },
      "source": [
        "#@title Функция создания НС\n",
        "\n",
        "def create_unet_emb_custom(xLen, embeddingSize = 10, k = 1, num_classes = 6):\n",
        "\n",
        "    def Conv1DTranspose(input_tensor, filters, kernel_size=1, strides=2, padding='same'):\n",
        "        \"\"\"\n",
        "        input_tensor: входной тензор (batch_size, time_steps, dims)\n",
        "        filters: int, output dimension, выходной тензор будет иметь размер (batch_size, time_steps, filters)\n",
        "        kernel_size: размер ядра свертки \n",
        "        strides: int, шаг ядра\n",
        "        padding: 'same' | действительный\n",
        "        \"\"\"\n",
        "        x = Lambda(lambda x: K.expand_dims(x, axis=2))(input_tensor)\n",
        "        x = Conv2DTranspose(filters=filters, kernel_size=(kernel_size, 1), strides=(strides, 1), padding=padding)(x)\n",
        "        x = Lambda(lambda x: K.squeeze(x, axis=2))(x)\n",
        "        return x\n",
        "        \n",
        "    img_input = Input(xLen) \n",
        "\n",
        "    # Block 1\n",
        "    x = Embedding(len(decoded_text), embeddingSize, input_length=xLen)(img_input)\n",
        "\n",
        "    x_input = x\n",
        "\n",
        "    x = Conv1D(64 * k , 3, padding='same')(x) \n",
        "    x = BatchNormalization()(x) \n",
        "    x = Activation('relu')(x)\n",
        "\n",
        "    x = Conv1D(64 * k , 3, padding='same')(x)  \n",
        "    x = BatchNormalization()(x)     \n",
        "    block_1_out = Activation('relu')(x) \n",
        "\n",
        "    x = MaxPooling1D()(block_1_out)\n",
        "\n",
        "    # Block 2\n",
        "    x = Conv1D(128 * k , 3, padding='same')(x)\n",
        "    x = BatchNormalization()(x)\n",
        "    x = Activation('relu')(x)  \n",
        "\n",
        "    x = Conv1D(128 * k , 3, padding='same')(x)\n",
        "    x = BatchNormalization()(x)\n",
        "    block_2_out = Activation('relu')(x)\n",
        "\n",
        "    x = MaxPooling1D()(block_2_out)\n",
        "\n",
        "    # Block 3\n",
        "    x = Conv1D(256 * k , 3, padding='same')(x)\n",
        "    x = BatchNormalization()(x)               \n",
        "    x = Activation('relu')(x)                     \n",
        "\n",
        "    x = Conv1D(256 * k , 3, padding='same')(x)\n",
        "    x = BatchNormalization()(x)\n",
        "    x = Activation('relu')(x)\n",
        "\n",
        "    x = Conv1D(256 * k , 3, padding='same')(x)\n",
        "    x = BatchNormalization()(x)\n",
        "    block_3_out = Activation('relu')(x)\n",
        "\n",
        "    # x = block_3_out\n",
        "    x = MaxPooling1D()(block_3_out)\n",
        "\n",
        "    # Block 4\n",
        "    x = Conv1D(512 * k , 3, padding='same')(x)\n",
        "    x = BatchNormalization()(x) \n",
        "    x = Activation('relu')(x)\n",
        "\n",
        "    x = Conv1D(512 * k , 3, padding='same')(x)\n",
        "    x = BatchNormalization()(x)\n",
        "    x = Activation('relu')(x)\n",
        "\n",
        "    x = Conv1D(512 * k , 3, padding='same')(x)\n",
        "    x = BatchNormalization()(x)      \n",
        "    block_4_out = Activation('relu')(x)\n",
        "    x = block_4_out \n",
        "\n",
        "    # UP 2\n",
        "    x = Conv1DTranspose(x, 256, kernel_size=2, strides=2, padding='same')\n",
        "    x = BatchNormalization()(x)\n",
        "    x = Activation('relu')(x) \n",
        "\n",
        "    x = concatenate([x, block_3_out]) \n",
        "    x = Conv1D(256 * k , 3, padding='same')(x) \n",
        "    x = BatchNormalization()(x) \n",
        "    x = Activation('relu')(x)\n",
        "\n",
        "    x = Conv1D(256 * k , 3, padding='same')(x)\n",
        "    x = BatchNormalization()(x)\n",
        "    x = Activation('relu')(x)\n",
        "    \n",
        "    # UP 3\n",
        "    x = Conv1DTranspose(x, 128, kernel_size=2, strides=2, padding='same')\n",
        "    x = BatchNormalization()(x)\n",
        "    x = Activation('relu')(x) \n",
        "\n",
        "    x = concatenate([x, block_2_out])\n",
        "    x = Conv1D(128 * k , 3, padding='same')(x)\n",
        "    x = BatchNormalization()(x)\n",
        "    x = Activation('relu')(x)\n",
        "\n",
        "    x = Conv1D(128 * k , 3, padding='same')(x)\n",
        "    x = BatchNormalization()(x)\n",
        "    x = Activation('relu')(x)\n",
        "\n",
        "    # UP 4\n",
        "    x = Conv1DTranspose(x, 64, kernel_size=2, strides=2, padding='same')\n",
        "    x = BatchNormalization()(x)\n",
        "    x = Activation('relu')(x)\n",
        "\n",
        "    x = concatenate([x, block_1_out])\n",
        "    x = Conv1D(64 * k , 3, padding='same')(x)\n",
        "    x = BatchNormalization()(x)\n",
        "    x = Activation('relu')(x)\n",
        "\n",
        "    x = Conv1D(64 * k , 3, padding='same')(x)\n",
        "    x = BatchNormalization()(x)\n",
        "    x = Activation('relu')(x)\n",
        "\n",
        "    x = Conv1D(num_classes, 3, activation='sigmoid', padding='same')(x)\n",
        "\n",
        "    model = Model(img_input, x) \n",
        "\n",
        "    model = Model(img_input, x)\n",
        "    model.compile(optimizer=Adam(0.0025), \n",
        "                  loss='categorical_crossentropy',\n",
        "                  metrics=[dice_coef_mod])\n",
        "  \n",
        "    return model\n"
      ],
      "execution_count": 30,
      "outputs": []
    },
    {
      "cell_type": "code",
      "metadata": {
        "colab": {
          "base_uri": "https://localhost:8080/"
        },
        "cellView": "form",
        "id": "-pwCBRhZgw2v",
        "outputId": "db9478ee-1805-47eb-ba49-e7935004f1e1"
      },
      "source": [
        "#@title Создание сети, обучение\n",
        "\n",
        "model_UNet_custom = create_unet_emb_custom(xLen, embeddingSize=100, k=2)\n",
        "history_UNet_custom = model_UNet_custom.fit(xTrain, yTrain, epochs=20, batch_size=64, validation_split = 0.2)"
      ],
      "execution_count": 31,
      "outputs": [
        {
          "output_type": "stream",
          "text": [
            "Epoch 1/20\n",
            "169/169 [==============================] - 42s 248ms/step - loss: 0.4823 - dice_coef_mod: 0.7273 - val_loss: 4.5566 - val_dice_coef_mod: 0.4804\n",
            "Epoch 2/20\n",
            "169/169 [==============================] - 41s 244ms/step - loss: 0.2877 - dice_coef_mod: 0.7817 - val_loss: 4.6218 - val_dice_coef_mod: 0.4649\n",
            "Epoch 3/20\n",
            "169/169 [==============================] - 41s 244ms/step - loss: 0.2435 - dice_coef_mod: 0.7952 - val_loss: 1.3661 - val_dice_coef_mod: 0.7166\n",
            "Epoch 4/20\n",
            "169/169 [==============================] - 41s 243ms/step - loss: 0.2335 - dice_coef_mod: 0.8046 - val_loss: 1.3863 - val_dice_coef_mod: 0.7213\n",
            "Epoch 5/20\n",
            "169/169 [==============================] - 41s 243ms/step - loss: 0.2280 - dice_coef_mod: 0.8072 - val_loss: 1.1784 - val_dice_coef_mod: 0.6802\n",
            "Epoch 6/20\n",
            "169/169 [==============================] - 41s 244ms/step - loss: 0.2281 - dice_coef_mod: 0.8078 - val_loss: 1.4501 - val_dice_coef_mod: 0.7261\n",
            "Epoch 7/20\n",
            "169/169 [==============================] - 41s 244ms/step - loss: 0.2123 - dice_coef_mod: 0.8165 - val_loss: 2.3927 - val_dice_coef_mod: 0.6660\n",
            "Epoch 8/20\n",
            "169/169 [==============================] - 41s 243ms/step - loss: 0.2140 - dice_coef_mod: 0.8158 - val_loss: 2.0371 - val_dice_coef_mod: 0.7197\n",
            "Epoch 9/20\n",
            "169/169 [==============================] - 41s 244ms/step - loss: 0.2172 - dice_coef_mod: 0.8147 - val_loss: 1.9110 - val_dice_coef_mod: 0.7236\n",
            "Epoch 10/20\n",
            "169/169 [==============================] - 41s 245ms/step - loss: 0.2255 - dice_coef_mod: 0.8080 - val_loss: 2.4109 - val_dice_coef_mod: 0.7007\n",
            "Epoch 11/20\n",
            "169/169 [==============================] - 41s 244ms/step - loss: 0.2130 - dice_coef_mod: 0.8136 - val_loss: 1.6998 - val_dice_coef_mod: 0.7020\n",
            "Epoch 12/20\n",
            "169/169 [==============================] - 41s 245ms/step - loss: 0.2066 - dice_coef_mod: 0.8203 - val_loss: 2.2162 - val_dice_coef_mod: 0.7237\n",
            "Epoch 13/20\n",
            "169/169 [==============================] - 42s 246ms/step - loss: 0.2053 - dice_coef_mod: 0.8207 - val_loss: 2.0427 - val_dice_coef_mod: 0.7251\n",
            "Epoch 14/20\n",
            "169/169 [==============================] - 42s 246ms/step - loss: 0.2057 - dice_coef_mod: 0.8202 - val_loss: 1.8990 - val_dice_coef_mod: 0.7337\n",
            "Epoch 15/20\n",
            "169/169 [==============================] - 41s 245ms/step - loss: 0.2138 - dice_coef_mod: 0.8165 - val_loss: 2.8529 - val_dice_coef_mod: 0.6317\n",
            "Epoch 16/20\n",
            "169/169 [==============================] - 41s 245ms/step - loss: 0.2124 - dice_coef_mod: 0.8166 - val_loss: 2.5811 - val_dice_coef_mod: 0.7038\n",
            "Epoch 17/20\n",
            "169/169 [==============================] - 41s 245ms/step - loss: 0.2015 - dice_coef_mod: 0.8278 - val_loss: 2.2108 - val_dice_coef_mod: 0.7266\n",
            "Epoch 18/20\n",
            "169/169 [==============================] - 41s 245ms/step - loss: 0.2017 - dice_coef_mod: 0.8280 - val_loss: 2.3888 - val_dice_coef_mod: 0.7350\n",
            "Epoch 19/20\n",
            "169/169 [==============================] - 41s 245ms/step - loss: 0.2092 - dice_coef_mod: 0.8214 - val_loss: 2.1476 - val_dice_coef_mod: 0.7022\n",
            "Epoch 20/20\n",
            "169/169 [==============================] - 41s 245ms/step - loss: 0.2065 - dice_coef_mod: 0.8217 - val_loss: 2.0045 - val_dice_coef_mod: 0.6909\n"
          ],
          "name": "stdout"
        }
      ]
    },
    {
      "cell_type": "code",
      "metadata": {
        "colab": {
          "base_uri": "https://localhost:8080/"
        },
        "cellView": "form",
        "id": "LDSyWQseGkTp",
        "outputId": "4232ea47-294e-451b-c044-3b4c89167598"
      },
      "source": [
        "#@title Результаты обучения: Качество модели\n",
        "\n",
        "recognizeSet(yTest, model_UNet_custom.predict(xTest), tags, xLen, 0.999)\n"
      ],
      "execution_count": 32,
      "outputs": [
        {
          "output_type": "stream",
          "text": [
            "Сеть распознала категорию 'S1' на 70.25%\n",
            "Сеть распознала категорию 'S2' на 98.03%\n",
            "Сеть распознала категорию 'S3' на 88.69%\n",
            "Сеть распознала категорию 'S4' на 88.58%\n",
            "Сеть распознала категорию 'S5' на 91.65%\n",
            "Сеть распознала категорию 'S6' на 99.93%\n",
            "Cредняя точность 89.52206958099252%\n"
          ],
          "name": "stdout"
        }
      ]
    },
    {
      "cell_type": "markdown",
      "metadata": {
        "id": "TWCidSC-7iEK"
      },
      "source": [
        "## Выводы"
      ]
    },
    {
      "cell_type": "markdown",
      "metadata": {
        "id": "038JOkPq7lN5"
      },
      "source": [
        "\n",
        "\n",
        "1.   При подключении слоя Embedding точность возрасла, хотя и незначительно, по сравнению с моделями нейронок с занятия\n",
        "2.   Лучше всего себя показала сетка Unet\n",
        "3.   Так же была написана своя функция рассчета метрики dice_coef, немного отличающейся от заданной на занятии, и это помогло так же немного повысить точность.\n",
        "\n"
      ]
    },
    {
      "cell_type": "markdown",
      "metadata": {
        "id": "ITgkZ642SCYi"
      },
      "source": [
        "# PRO"
      ]
    },
    {
      "cell_type": "markdown",
      "metadata": {
        "id": "l5vEEgNH6fxU"
      },
      "source": [
        "**Pro задание. Вариант 1**\n",
        "\n",
        "Используйте другие методы обработки текста (которых не было в занятии, например, embedding слой), поменяйте параметры UNET с занятия и добейтесь с ними точности 85%.\n"
      ]
    },
    {
      "cell_type": "markdown",
      "metadata": {
        "id": "8lWCpVZe6niO"
      },
      "source": [
        "## Загрузка нужных библиотек, объявление функций, подготовка данных"
      ]
    },
    {
      "cell_type": "code",
      "metadata": {
        "colab": {
          "base_uri": "https://localhost:8080/"
        },
        "cellView": "form",
        "id": "9-kXtiX7mHqw",
        "outputId": "5d447563-af62-4e41-9683-348315f13251"
      },
      "source": [
        "#@title Предустановка недостающей библиотеки\n",
        "\n",
        "!pip install pymorphy2\n",
        "!pip install fasttext"
      ],
      "execution_count": 36,
      "outputs": [
        {
          "output_type": "stream",
          "text": [
            "Requirement already satisfied: pymorphy2 in /usr/local/lib/python3.6/dist-packages (0.9.1)\n",
            "Requirement already satisfied: dawg-python>=0.7.1 in /usr/local/lib/python3.6/dist-packages (from pymorphy2) (0.7.2)\n",
            "Requirement already satisfied: pymorphy2-dicts-ru<3.0,>=2.4 in /usr/local/lib/python3.6/dist-packages (from pymorphy2) (2.4.417127.4579844)\n",
            "Requirement already satisfied: docopt>=0.6 in /usr/local/lib/python3.6/dist-packages (from pymorphy2) (0.6.2)\n"
          ],
          "name": "stdout"
        }
      ]
    },
    {
      "cell_type": "code",
      "metadata": {
        "cellView": "form",
        "id": "THrYHgILmHq4"
      },
      "source": [
        "#@title Импорт библиотек\n",
        "\n",
        "import numpy as np\n",
        "from tensorflow.keras.models import Model, load_model \n",
        "import re\n",
        "from tensorflow.keras.preprocessing.text import Tokenizer\n",
        "from tensorflow.keras.layers import Dense, Embedding, Input, concatenate, Activation, MaxPooling1D, Conv1D, BatchNormalization, Dropout, Conv2DTranspose, Lambda\n",
        "from tensorflow.keras import backend as K \n",
        "from tensorflow.keras.optimizers import Adam, Adadelta\n",
        "from tensorflow.keras import utils \n",
        "from google.colab import files \n",
        "import fasttext\n",
        "import matplotlib.pyplot as plt \n",
        "import os \n",
        "import pandas as pd \n",
        "import pymorphy2 \n",
        "import time"
      ],
      "execution_count": 37,
      "outputs": []
    },
    {
      "cell_type": "code",
      "metadata": {
        "colab": {
          "base_uri": "https://localhost:8080/"
        },
        "cellView": "form",
        "id": "bLo0VqnhmHq5",
        "outputId": "e9461f09-d55d-4825-b475-b6c59caf89f4"
      },
      "source": [
        "#@title Подключение папки гуглдрайва\n",
        "\n",
        "from google.colab import drive\n",
        "drive.mount('/content/drive')"
      ],
      "execution_count": 38,
      "outputs": [
        {
          "output_type": "stream",
          "text": [
            "Drive already mounted at /content/drive; to attempt to forcibly remount, call drive.mount(\"/content/drive\", force_remount=True).\n"
          ],
          "name": "stdout"
        }
      ]
    },
    {
      "cell_type": "code",
      "metadata": {
        "cellView": "form",
        "id": "2xqV1E1PmHq7"
      },
      "source": [
        "#@title Функции\n",
        "\n",
        "def readText(fileName):\n",
        "  f = open(fileName, 'r')\n",
        "  text = f.read() \n",
        "  delSymbols = ['\\n', \"\\t\", \"\\ufeff\", \".\", \"_\", \"-\", \",\", \"!\", \"?\", \"–\", \"(\", \")\", \"«\", \"»\", \"№\", \";\"]\n",
        "\n",
        "  for dS in delSymbols:\n",
        "    text = text.replace(dS, \" \")\n",
        "\n",
        "  text = re.sub(\"[.]\", \" \", text) \n",
        "  text = re.sub(\":\", \" \", text)\n",
        "  text = re.sub(\"<\", \" <\", text)\n",
        "  text = re.sub(\">\", \"> \", text)\n",
        "\n",
        "  text = ' '.join(text.split()) \n",
        "\n",
        "  text = text.lower()\n",
        "  return text\n",
        "\n",
        "\n",
        "def text2Words(text):\n",
        "  morph = pymorphy2.MorphAnalyzer()\n",
        "  words = text.split(' ')\n",
        "  words = [morph.parse(word)[0].normal_form for word in words] \n",
        "  return words \n",
        "\n",
        "\n",
        "def get01XSamples(tok_agreem, tags_index):\n",
        "  tags01 = [] \n",
        "  indexes = [] \n",
        " \n",
        "  for agreement in tok_agreem: \n",
        "    tag_place = [0, 0, 0, 0, 0, 0] \n",
        "    for ex in agreement: \n",
        "        if ex in tags_index: \n",
        "          place = np.argwhere(tags_index==ex) \n",
        "          if len(place)!=0: \n",
        "            if place[0][0]<6:\n",
        "              tag_place[place[0][0]] = 1    \n",
        "            else: \n",
        "              tag_place[place[0][0] - 6] = 0  \n",
        "        else:          \n",
        "          tags01.append(tag_place.copy())\n",
        "          indexes.append(ex) \n",
        "\n",
        "  return indexes, tags01\n",
        "\n",
        "\n",
        "def reverseIndex(clean_voc, x):\n",
        "  reverse_word_map = dict(map(reversed, clean_voc.items())) \n",
        "  words = [reverse_word_map.get(letter) for letter in x] \n",
        "  return words \n",
        "\n",
        "\n",
        "def getSetFromIndexes(wordIndexes, xLen, step): \n",
        "  xBatch = [] \n",
        "  wordsLen = len(wordIndexes) \n",
        "  index = 0 \n",
        "  \n",
        "  while (index + xLen <= wordsLen):\n",
        "    xBatch.append(wordIndexes[index:index+xLen]) \n",
        "    index += step \n",
        "\n",
        "  return xBatch \n",
        "\n",
        "\n",
        "def dice_coef(y_true, y_pred):\n",
        "    return (2. * K.sum(y_true * y_pred) + 1.) / (K.sum(y_true) + K.sum(y_pred) + 1.)\n",
        "\n",
        "\n",
        "def dice_coef_mod(y_true, y_pred, smooth=1):\n",
        "\n",
        "    \"\"\"\n",
        "    Dice = (2*|X & Y|)/ (|X|+ |Y|)\n",
        "         =  2*sum(|A*B|)/(sum(A^2)+sum(B^2))\n",
        "    ref: https://arxiv.org/pdf/1606.04797v1.pdf\n",
        "    \"\"\"\n",
        "    \n",
        "    intersection = K.sum(K.abs(y_true * y_pred), axis=-1)\n",
        "    \n",
        "    return (2. * intersection + smooth) / (K.sum(K.square(y_true),-1) + K.sum(K.square(y_pred),-1) + smooth)\n",
        "\n",
        "\n",
        "def recognizeSet(tagI, pred, tags, length, value):\n",
        "  total=0\n",
        "\n",
        "  for j in range(6): \n",
        "    correct=0\n",
        "    for i in range(len(tagI)): \n",
        "      for k in range(length): \n",
        "        if tagI[i][k][j]==(pred[i][k][j]>value).astype(int):\n",
        "          correct+=1 \n",
        "    print(\"Сеть распознала категорию '{}' на {}%\".format(tags[j],round(100*correct/(len(tagI)*length), 2)))\n",
        "    total += 100 * correct / (len(tagI)*length)\n",
        "  print(\"Cредняя точность {}%\".format(total/6))\n"
      ],
      "execution_count": 39,
      "outputs": []
    },
    {
      "cell_type": "code",
      "metadata": {
        "cellView": "form",
        "id": "649AJMUgmHq7"
      },
      "source": [
        "#@title Подготовка данных\n",
        "\n",
        "directory = '/content/drive/MyDrive/III/14/Договора432/'\n",
        "\n",
        "agreements = [] \n",
        "for filename in os.listdir(directory):\n",
        "  txt = readText(directory + filename)\n",
        "  if txt != '':\n",
        "    agreements.append(readText(directory + filename)) \n",
        "\n",
        "words = []\n",
        "for i in range(len(agreements)): \n",
        "  words.append(text2Words(agreements[i])) \n",
        "  \n",
        "wordsToTest = words[-10:] \n",
        "words = words[:-10] \n",
        "\n",
        "tokenizer = Tokenizer(lower=True, filters = '', char_level=False)\n",
        "tokenizer.fit_on_texts(words) \n",
        "\n",
        "clean_voc = {} \n",
        "\n",
        "for item in tokenizer.word_index.items(): \n",
        "  clean_voc[item[0]] = item[1] \n",
        "\n",
        "tok_agreem = tokenizer.texts_to_sequences(words) \n",
        "\n",
        "tags_index = ['<s' + str(i) + '>' for i in range(1, 7)] \n",
        "closetags = ['</s' + str(i) + '>' for i in range(1, 7)]\n",
        "tags_index.extend(closetags) \n",
        "tags_index = np.array([clean_voc[i] for i in tags_index]) \n",
        "\n",
        "xData, yData = get01XSamples(tok_agreem,tags_index) \n",
        "\n",
        "decoded_text = reverseIndex(clean_voc, xData)\n",
        "\n",
        "xLen = 256\n",
        "step = 30 \n",
        "\n",
        "xTrain = getSetFromIndexes(decoded_text, xLen, step) \n",
        "xTrain = tokenizer.texts_to_sequences(xTrain)\n",
        "xTrain = np.asarray(xTrain)\n",
        "\n",
        "yTrain = getSetFromIndexes(yData, xLen, step) \n",
        "yTrain = np.array(yTrain)\n",
        "\n",
        "tok_agreemTest = tokenizer.texts_to_sequences(wordsToTest) \n",
        "\n",
        "xDataTest, yDataTest = get01XSamples(tok_agreemTest,tags_index) \n",
        "\n",
        "test_decoded_text = reverseIndex(clean_voc, xDataTest) \n",
        "\n",
        "xTest = getSetFromIndexes(test_decoded_text, xLen, step) \n",
        "xTest = tokenizer.texts_to_sequences(xTest)\n",
        "xTest = np.asarray(xTest)\n",
        "\n",
        "yTest = getSetFromIndexes(yDataTest, xLen, step) \n",
        "yTest = np.array(yTest)\n",
        "\n",
        "tags = ['S1', 'S2', 'S3', 'S4', 'S5', 'S6']"
      ],
      "execution_count": 40,
      "outputs": []
    },
    {
      "cell_type": "code",
      "metadata": {
        "cellView": "form",
        "id": "u5Ea3HdcyMu3"
      },
      "source": [
        "#@title Дополнительная подготовка для работы с матрицей весов fasttext\n",
        "#@markdown https://fasttext.cc/\n",
        "\n",
        "f = open('text.txt', 'w')\n",
        "\n",
        "for text in agreements:\n",
        "  f.write(text)\n",
        "\n",
        "f.close()\n",
        "\n",
        "embeddings_index = fasttext.train_unsupervised('text.txt', model='cbow')\n",
        "\n",
        "embedding_matrix = np.zeros((len(decoded_text), 100))\n",
        "\n",
        "for word, i in tokenizer.word_index.items():\n",
        "\tembedding_vector = embeddings_index[word]\n",
        "\tif embedding_vector is not None:\n",
        "\t\tembedding_matrix[i] = embedding_vector"
      ],
      "execution_count": 85,
      "outputs": []
    },
    {
      "cell_type": "markdown",
      "metadata": {
        "id": "YdMGgG_K6zvB"
      },
      "source": [
        "## Нейронки"
      ]
    },
    {
      "cell_type": "markdown",
      "metadata": {
        "id": "AaWe21V8mHq8"
      },
      "source": [
        "### НС Embedding(fasttext)+Conv1D"
      ]
    },
    {
      "cell_type": "code",
      "metadata": {
        "cellView": "form",
        "id": "wIFlIPUAmHq8"
      },
      "source": [
        "#@title Функция создания НС\n",
        "\n",
        "def create_Conv1d_emb_fasttext(xLen, embeddingSize): \n",
        "  text_input_layer = Input((xLen)) \n",
        "\n",
        "  text_layer = Embedding(len(decoded_text), embeddingSize, weights=[embedding_matrix], input_length=xLen, trainable=False)(text_input_layer)\n",
        "\n",
        "  text_layer = Conv1D(16, 3, padding='same',activation='relu')(text_layer)\n",
        "  text_layer = Conv1D(16, 3, padding='same',activation='relu')(text_layer)\n",
        "  text_layer = Conv1D(16, 3,padding='same', activation='relu')(text_layer) \n",
        "  text_layer = Conv1D(yTrain.shape[-1], 3, padding='same',activation='sigmoid')(text_layer)\n",
        "  model = Model(text_input_layer, text_layer)\n",
        "  model.compile(optimizer=Adadelta(),\n",
        "                    loss='categorical_crossentropy',\n",
        "                    metrics=[dice_coef])\n",
        "  return model"
      ],
      "execution_count": 106,
      "outputs": []
    },
    {
      "cell_type": "code",
      "metadata": {
        "colab": {
          "base_uri": "https://localhost:8080/"
        },
        "cellView": "form",
        "id": "DgvcidhxmHq9",
        "outputId": "bac587a8-b23e-4c41-9f97-6a9dfc829b20"
      },
      "source": [
        "#@title Создание сети, вывод информации\n",
        "\n",
        "model_Conv1D_fasttext = create_Conv1d_emb_fasttext(xLen, 100)\n",
        "model_Conv1D_fasttext.summary() "
      ],
      "execution_count": 108,
      "outputs": [
        {
          "output_type": "stream",
          "text": [
            "Model: \"functional_25\"\n",
            "_________________________________________________________________\n",
            "Layer (type)                 Output Shape              Param #   \n",
            "=================================================================\n",
            "input_10 (InputLayer)        [(None, 256)]             0         \n",
            "_________________________________________________________________\n",
            "embedding_9 (Embedding)      (None, 256, 100)          40499900  \n",
            "_________________________________________________________________\n",
            "conv1d_102 (Conv1D)          (None, 256, 16)           4816      \n",
            "_________________________________________________________________\n",
            "conv1d_103 (Conv1D)          (None, 256, 16)           784       \n",
            "_________________________________________________________________\n",
            "conv1d_104 (Conv1D)          (None, 256, 16)           784       \n",
            "_________________________________________________________________\n",
            "conv1d_105 (Conv1D)          (None, 256, 6)            294       \n",
            "=================================================================\n",
            "Total params: 40,506,578\n",
            "Trainable params: 6,678\n",
            "Non-trainable params: 40,499,900\n",
            "_________________________________________________________________\n"
          ],
          "name": "stdout"
        }
      ]
    },
    {
      "cell_type": "code",
      "metadata": {
        "colab": {
          "base_uri": "https://localhost:8080/"
        },
        "cellView": "form",
        "id": "EHwH2cVymHq9",
        "outputId": "4faf49d3-e8f8-4765-bf74-c29b2c2a1eb4"
      },
      "source": [
        "#@title Обучение сети\n",
        "\n",
        "history_Conv1D_fasttext = model_Conv1D_fasttext.fit(xTrain, yTrain, epochs=20, batch_size=200, validation_split = 0.2) "
      ],
      "execution_count": 109,
      "outputs": [
        {
          "output_type": "stream",
          "text": [
            "Epoch 1/20\n",
            "54/54 [==============================] - 1s 12ms/step - loss: 1.2430 - dice_coef: 0.2089 - val_loss: 1.3090 - val_dice_coef: 0.2123\n",
            "Epoch 2/20\n",
            "54/54 [==============================] - 0s 9ms/step - loss: 1.2420 - dice_coef: 0.2091 - val_loss: 1.3081 - val_dice_coef: 0.2126\n",
            "Epoch 3/20\n",
            "54/54 [==============================] - 0s 9ms/step - loss: 1.2409 - dice_coef: 0.2095 - val_loss: 1.3072 - val_dice_coef: 0.2128\n",
            "Epoch 4/20\n",
            "54/54 [==============================] - 0s 9ms/step - loss: 1.2397 - dice_coef: 0.2098 - val_loss: 1.3062 - val_dice_coef: 0.2131\n",
            "Epoch 5/20\n",
            "54/54 [==============================] - 0s 9ms/step - loss: 1.2384 - dice_coef: 0.2102 - val_loss: 1.3051 - val_dice_coef: 0.2134\n",
            "Epoch 6/20\n",
            "54/54 [==============================] - 0s 9ms/step - loss: 1.2371 - dice_coef: 0.2105 - val_loss: 1.3040 - val_dice_coef: 0.2137\n",
            "Epoch 7/20\n",
            "54/54 [==============================] - 0s 9ms/step - loss: 1.2357 - dice_coef: 0.2110 - val_loss: 1.3028 - val_dice_coef: 0.2140\n",
            "Epoch 8/20\n",
            "54/54 [==============================] - 0s 9ms/step - loss: 1.2342 - dice_coef: 0.2114 - val_loss: 1.3016 - val_dice_coef: 0.2144\n",
            "Epoch 9/20\n",
            "54/54 [==============================] - 0s 9ms/step - loss: 1.2327 - dice_coef: 0.2118 - val_loss: 1.3003 - val_dice_coef: 0.2147\n",
            "Epoch 10/20\n",
            "54/54 [==============================] - 0s 9ms/step - loss: 1.2311 - dice_coef: 0.2123 - val_loss: 1.2990 - val_dice_coef: 0.2151\n",
            "Epoch 11/20\n",
            "54/54 [==============================] - 0s 9ms/step - loss: 1.2294 - dice_coef: 0.2128 - val_loss: 1.2976 - val_dice_coef: 0.2155\n",
            "Epoch 12/20\n",
            "54/54 [==============================] - 0s 9ms/step - loss: 1.2277 - dice_coef: 0.2133 - val_loss: 1.2962 - val_dice_coef: 0.2159\n",
            "Epoch 13/20\n",
            "54/54 [==============================] - 0s 9ms/step - loss: 1.2258 - dice_coef: 0.2138 - val_loss: 1.2947 - val_dice_coef: 0.2163\n",
            "Epoch 14/20\n",
            "54/54 [==============================] - 0s 9ms/step - loss: 1.2239 - dice_coef: 0.2144 - val_loss: 1.2931 - val_dice_coef: 0.2167\n",
            "Epoch 15/20\n",
            "54/54 [==============================] - 0s 9ms/step - loss: 1.2219 - dice_coef: 0.2150 - val_loss: 1.2915 - val_dice_coef: 0.2172\n",
            "Epoch 16/20\n",
            "54/54 [==============================] - 0s 9ms/step - loss: 1.2198 - dice_coef: 0.2156 - val_loss: 1.2897 - val_dice_coef: 0.2177\n",
            "Epoch 17/20\n",
            "54/54 [==============================] - 0s 9ms/step - loss: 1.2176 - dice_coef: 0.2162 - val_loss: 1.2879 - val_dice_coef: 0.2182\n",
            "Epoch 18/20\n",
            "54/54 [==============================] - 0s 9ms/step - loss: 1.2154 - dice_coef: 0.2169 - val_loss: 1.2861 - val_dice_coef: 0.2187\n",
            "Epoch 19/20\n",
            "54/54 [==============================] - 0s 9ms/step - loss: 1.2130 - dice_coef: 0.2176 - val_loss: 1.2841 - val_dice_coef: 0.2193\n",
            "Epoch 20/20\n",
            "54/54 [==============================] - 0s 9ms/step - loss: 1.2105 - dice_coef: 0.2184 - val_loss: 1.2821 - val_dice_coef: 0.2199\n"
          ],
          "name": "stdout"
        }
      ]
    },
    {
      "cell_type": "code",
      "metadata": {
        "colab": {
          "base_uri": "https://localhost:8080/"
        },
        "cellView": "form",
        "id": "PWlEq1kImHq_",
        "outputId": "de973ca4-0857-4b27-f10e-27c1eaa25496"
      },
      "source": [
        "#@title Результаты обучения: Качество модели\n",
        "\n",
        "recognizeSet(yTest, model_Conv1D_fasttext.predict(xTest), tags, xLen, 0.999)"
      ],
      "execution_count": 110,
      "outputs": [
        {
          "output_type": "stream",
          "text": [
            "Сеть распознала категорию 'S1' на 68.71%\n",
            "Сеть распознала категорию 'S2' на 98.05%\n",
            "Сеть распознала категорию 'S3' на 87.71%\n",
            "Сеть распознала категорию 'S4' на 87.39%\n",
            "Сеть распознала категорию 'S5' на 92.45%\n",
            "Сеть распознала категорию 'S6' на 99.95%\n",
            "Cредняя точность 89.04402943586142%\n"
          ],
          "name": "stdout"
        }
      ]
    },
    {
      "cell_type": "markdown",
      "metadata": {
        "id": "p13T9FKL46Ew"
      },
      "source": [
        "### НС Embedding(fasttext)+UNet+модифицированная функция метрики dice_coef"
      ]
    },
    {
      "cell_type": "code",
      "metadata": {
        "cellView": "form",
        "id": "NK8Z-a1I4L3j"
      },
      "source": [
        "#@title Функция создания НС\n",
        "\n",
        "def create_unet_fasttext(xLen, embeddingSize = 10, k = 1, num_classes = 6):\n",
        "\n",
        "    def Conv1DTranspose(input_tensor, filters, kernel_size=1, strides=2, padding='same'):\n",
        "        \"\"\"\n",
        "        input_tensor: входной тензор (batch_size, time_steps, dims)\n",
        "        filters: int, output dimension, выходной тензор будет иметь размер (batch_size, time_steps, filters)\n",
        "        kernel_size: размер ядра свертки \n",
        "        strides: int, шаг ядра\n",
        "        padding: 'same' | действительный\n",
        "        \"\"\"\n",
        "        x = Lambda(lambda x: K.expand_dims(x, axis=2))(input_tensor)\n",
        "        x = Conv2DTranspose(filters=filters, kernel_size=(kernel_size, 1), strides=(strides, 1), padding=padding)(x)\n",
        "        x = Lambda(lambda x: K.squeeze(x, axis=2))(x)\n",
        "        return x\n",
        "        \n",
        "    img_input = Input(xLen) \n",
        "\n",
        "    # Block 1\n",
        "    x = Embedding(len(decoded_text), embeddingSize, weights=[embedding_matrix], input_length=xLen, trainable=False)(img_input)\n",
        "\n",
        "    x_input = x\n",
        "\n",
        "    x = Conv1D(64 * k , 3, padding='same')(x) \n",
        "    x = BatchNormalization()(x) \n",
        "    x = Activation('relu')(x)\n",
        "\n",
        "    x = Conv1D(64 * k , 3, padding='same')(x)  \n",
        "    x = BatchNormalization()(x)     \n",
        "    block_1_out = Activation('relu')(x) \n",
        "\n",
        "    x = MaxPooling1D()(block_1_out)\n",
        "\n",
        "    # Block 2\n",
        "    x = Conv1D(128 * k , 3, padding='same')(x)\n",
        "    x = BatchNormalization()(x)\n",
        "    x = Activation('relu')(x)  \n",
        "\n",
        "    x = Conv1D(128 * k , 3, padding='same')(x)\n",
        "    x = BatchNormalization()(x)\n",
        "    block_2_out = Activation('relu')(x)\n",
        "\n",
        "    x = MaxPooling1D()(block_2_out)\n",
        "\n",
        "    # Block 3\n",
        "    x = Conv1D(256 * k , 3, padding='same')(x)\n",
        "    x = BatchNormalization()(x)               \n",
        "    x = Activation('relu')(x)                     \n",
        "\n",
        "    x = Conv1D(256 * k , 3, padding='same')(x)\n",
        "    x = BatchNormalization()(x)\n",
        "    x = Activation('relu')(x)\n",
        "\n",
        "    x = Conv1D(256 * k , 3, padding='same')(x)\n",
        "    x = BatchNormalization()(x)\n",
        "    block_3_out = Activation('relu')(x)\n",
        "\n",
        "    # x = block_3_out\n",
        "    x = MaxPooling1D()(block_3_out)\n",
        "\n",
        "    # Block 4\n",
        "    x = Conv1D(512 * k , 3, padding='same')(x)\n",
        "    x = BatchNormalization()(x) \n",
        "    x = Activation('relu')(x)\n",
        "\n",
        "    x = Conv1D(512 * k , 3, padding='same')(x)\n",
        "    x = BatchNormalization()(x)\n",
        "    x = Activation('relu')(x)\n",
        "\n",
        "    x = Conv1D(512 * k , 3, padding='same')(x)\n",
        "    x = BatchNormalization()(x)      \n",
        "    block_4_out = Activation('relu')(x)\n",
        "    x = block_4_out \n",
        "\n",
        "    # UP 2\n",
        "    x = Conv1DTranspose(x, 256, kernel_size=2, strides=2, padding='same')\n",
        "    x = BatchNormalization()(x)\n",
        "    x = Activation('relu')(x) \n",
        "\n",
        "    x = concatenate([x, block_3_out]) \n",
        "    x = Conv1D(256 * k , 3, padding='same')(x) \n",
        "    x = BatchNormalization()(x) \n",
        "    x = Activation('relu')(x)\n",
        "\n",
        "    x = Conv1D(256 * k , 3, padding='same')(x)\n",
        "    x = BatchNormalization()(x)\n",
        "    x = Activation('relu')(x)\n",
        "    \n",
        "    # UP 3\n",
        "    x = Conv1DTranspose(x, 128, kernel_size=2, strides=2, padding='same')\n",
        "    x = BatchNormalization()(x)\n",
        "    x = Activation('relu')(x) \n",
        "\n",
        "    x = concatenate([x, block_2_out])\n",
        "    x = Conv1D(128 * k , 3, padding='same')(x)\n",
        "    x = BatchNormalization()(x)\n",
        "    x = Activation('relu')(x)\n",
        "\n",
        "    x = Conv1D(128 * k , 3, padding='same')(x)\n",
        "    x = BatchNormalization()(x)\n",
        "    x = Activation('relu')(x)\n",
        "\n",
        "    # UP 4\n",
        "    x = Conv1DTranspose(x, 64, kernel_size=2, strides=2, padding='same')\n",
        "    x = BatchNormalization()(x)\n",
        "    x = Activation('relu')(x)\n",
        "\n",
        "    x = concatenate([x, block_1_out])\n",
        "    x = Conv1D(64 * k , 3, padding='same')(x)\n",
        "    x = BatchNormalization()(x)\n",
        "    x = Activation('relu')(x)\n",
        "\n",
        "    x = Conv1D(64 * k , 3, padding='same')(x)\n",
        "    x = BatchNormalization()(x)\n",
        "    x = Activation('relu')(x)\n",
        "\n",
        "    x = Conv1D(num_classes, 3, activation='sigmoid', padding='same')(x)\n",
        "\n",
        "    model = Model(img_input, x) \n",
        "\n",
        "    model = Model(img_input, x)\n",
        "    model.compile(optimizer=Adam(0.0025), \n",
        "                  loss='categorical_crossentropy',\n",
        "                  metrics=[dice_coef_mod])\n",
        "  \n",
        "    return model\n"
      ],
      "execution_count": 111,
      "outputs": []
    },
    {
      "cell_type": "code",
      "metadata": {
        "colab": {
          "base_uri": "https://localhost:8080/"
        },
        "cellView": "form",
        "id": "V_-qPpau4L3k",
        "outputId": "b058b5b1-4389-46ab-bfaa-d5259b1a6927"
      },
      "source": [
        "#@title Создание сети, обучение\n",
        "\n",
        "model_UNet_fasttext = create_unet_fasttext(xLen, embeddingSize=100, k=2)\n",
        "history_UNet_fasttext = model_UNet_fasttext.fit(xTrain, yTrain, epochs=20, batch_size=64, validation_split = 0.2)"
      ],
      "execution_count": 113,
      "outputs": [
        {
          "output_type": "stream",
          "text": [
            "Epoch 1/20\n",
            "169/169 [==============================] - 14s 83ms/step - loss: 0.6412 - dice_coef_mod: 0.6855 - val_loss: 2.4978 - val_dice_coef_mod: 0.5624\n",
            "Epoch 2/20\n",
            "169/169 [==============================] - 14s 80ms/step - loss: 0.4339 - dice_coef_mod: 0.7441 - val_loss: 1.6146 - val_dice_coef_mod: 0.6822\n",
            "Epoch 3/20\n",
            "169/169 [==============================] - 14s 80ms/step - loss: 0.3229 - dice_coef_mod: 0.7700 - val_loss: 1.5521 - val_dice_coef_mod: 0.6941\n",
            "Epoch 4/20\n",
            "169/169 [==============================] - 14s 80ms/step - loss: 0.2746 - dice_coef_mod: 0.7845 - val_loss: 1.4757 - val_dice_coef_mod: 0.7114\n",
            "Epoch 5/20\n",
            "169/169 [==============================] - 14s 80ms/step - loss: 0.2488 - dice_coef_mod: 0.7940 - val_loss: 1.2442 - val_dice_coef_mod: 0.6985\n",
            "Epoch 6/20\n",
            "169/169 [==============================] - 14s 80ms/step - loss: 0.2431 - dice_coef_mod: 0.7993 - val_loss: 1.2059 - val_dice_coef_mod: 0.7110\n",
            "Epoch 7/20\n",
            "169/169 [==============================] - 14s 80ms/step - loss: 0.2343 - dice_coef_mod: 0.8046 - val_loss: 1.6460 - val_dice_coef_mod: 0.7190\n",
            "Epoch 8/20\n",
            "169/169 [==============================] - 14s 80ms/step - loss: 0.2207 - dice_coef_mod: 0.8141 - val_loss: 1.6106 - val_dice_coef_mod: 0.7292\n",
            "Epoch 9/20\n",
            "169/169 [==============================] - 14s 80ms/step - loss: 0.2234 - dice_coef_mod: 0.8107 - val_loss: 2.2845 - val_dice_coef_mod: 0.6313\n",
            "Epoch 10/20\n",
            "169/169 [==============================] - 14s 80ms/step - loss: 0.2255 - dice_coef_mod: 0.8114 - val_loss: 1.2253 - val_dice_coef_mod: 0.7306\n",
            "Epoch 11/20\n",
            "169/169 [==============================] - 14s 80ms/step - loss: 0.2125 - dice_coef_mod: 0.8205 - val_loss: 1.9036 - val_dice_coef_mod: 0.7195\n",
            "Epoch 12/20\n",
            "169/169 [==============================] - 13s 80ms/step - loss: 0.2107 - dice_coef_mod: 0.8217 - val_loss: 1.9870 - val_dice_coef_mod: 0.7133\n",
            "Epoch 13/20\n",
            "169/169 [==============================] - 14s 80ms/step - loss: 0.2265 - dice_coef_mod: 0.8109 - val_loss: 1.4894 - val_dice_coef_mod: 0.7304\n",
            "Epoch 14/20\n",
            "169/169 [==============================] - 13s 80ms/step - loss: 0.2200 - dice_coef_mod: 0.8179 - val_loss: 2.0008 - val_dice_coef_mod: 0.7259\n",
            "Epoch 15/20\n",
            "169/169 [==============================] - 13s 80ms/step - loss: 0.2158 - dice_coef_mod: 0.8258 - val_loss: 1.7424 - val_dice_coef_mod: 0.7471\n",
            "Epoch 16/20\n",
            "169/169 [==============================] - 14s 80ms/step - loss: 0.2037 - dice_coef_mod: 0.8316 - val_loss: 2.0473 - val_dice_coef_mod: 0.7384\n",
            "Epoch 17/20\n",
            "169/169 [==============================] - 13s 80ms/step - loss: 0.2028 - dice_coef_mod: 0.8341 - val_loss: 1.8561 - val_dice_coef_mod: 0.7447\n",
            "Epoch 18/20\n",
            "169/169 [==============================] - 13s 80ms/step - loss: 0.2060 - dice_coef_mod: 0.8325 - val_loss: 1.8412 - val_dice_coef_mod: 0.7229\n",
            "Epoch 19/20\n",
            "169/169 [==============================] - 14s 80ms/step - loss: 0.2216 - dice_coef_mod: 0.8166 - val_loss: 1.6775 - val_dice_coef_mod: 0.7271\n",
            "Epoch 20/20\n",
            "169/169 [==============================] - 14s 80ms/step - loss: 0.2114 - dice_coef_mod: 0.8217 - val_loss: 1.6565 - val_dice_coef_mod: 0.7500\n"
          ],
          "name": "stdout"
        }
      ]
    },
    {
      "cell_type": "code",
      "metadata": {
        "colab": {
          "base_uri": "https://localhost:8080/"
        },
        "cellView": "form",
        "id": "XSwKwDcF4L3k",
        "outputId": "fd6b0253-7056-412e-e627-1fd87c647ba4"
      },
      "source": [
        "#@title Результаты обучения: Качество модели\n",
        "\n",
        "recognizeSet(yTest, model_UNet_fasttext.predict(xTest), tags, xLen, 0.999)\n"
      ],
      "execution_count": 114,
      "outputs": [
        {
          "output_type": "stream",
          "text": [
            "Сеть распознала категорию 'S1' на 74.64%\n",
            "Сеть распознала категорию 'S2' на 98.05%\n",
            "Сеть распознала категорию 'S3' на 88.41%\n",
            "Сеть распознала категорию 'S4' на 87.61%\n",
            "Сеть распознала категорию 'S5' на 92.45%\n",
            "Сеть распознала категорию 'S6' на 99.95%\n",
            "Cредняя точность 90.18591262874531%\n"
          ],
          "name": "stdout"
        }
      ]
    },
    {
      "cell_type": "markdown",
      "metadata": {
        "id": "AKXL54gxGfoY"
      },
      "source": [
        "# Конец"
      ]
    }
  ]
}